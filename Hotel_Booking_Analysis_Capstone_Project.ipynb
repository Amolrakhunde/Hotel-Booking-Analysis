{
  "nbformat": 4,
  "nbformat_minor": 0,
  "metadata": {
    "kernelspec": {
      "display_name": "Python 3",
      "language": "python",
      "name": "python3"
    },
    "language_info": {
      "codemirror_mode": {
        "name": "ipython",
        "version": 3
      },
      "file_extension": ".py",
      "mimetype": "text/x-python",
      "name": "python",
      "nbconvert_exporter": "python",
      "pygments_lexer": "ipython3",
      "version": "3.6.6"
    },
    "colab": {
      "name": "Hotel Booking Analysis - Capstone Project.ipynb",
      "provenance": [],
      "collapsed_sections": [],
      "include_colab_link": true
    }
  },
  "cells": [
    {
      "cell_type": "markdown",
      "metadata": {
        "id": "view-in-github",
        "colab_type": "text"
      },
      "source": [
        "<a href=\"https://colab.research.google.com/github/Amolrakhunde/Hotel-Booking-Analysis/blob/main/Hotel_Booking_Analysis_Capstone_Project.ipynb\" target=\"_parent\"><img src=\"https://colab.research.google.com/assets/colab-badge.svg\" alt=\"Open In Colab\"/></a>"
      ]
    },
    {
      "cell_type": "markdown",
      "metadata": {
        "id": "Y06xIdG26kRF"
      },
      "source": [
        "## <b> Have you ever wondered when the best time of year to book a hotel room is? Or the optimal length of stay in order to get the best daily rate? What if you wanted to predict whether or not a hotel was likely to receive a disproportionately high number of special requests? This hotel booking dataset can help you explore those questions!\n",
        "\n",
        "## <b>This data set contains booking information for a city hotel and a resort hotel, and includes information such as when the booking was made, length of stay, the number of adults, children, and/or babies, and the number of available parking spaces, among other things. All personally identifying information has been removed from the data. </b>\n",
        "\n",
        "## <b> Explore and analyze the data to discover important factors that govern the bookings. </b>"
      ]
    },
    {
      "cell_type": "markdown",
      "metadata": {
        "id": "lvNhcj72z8Lp"
      },
      "source": [
        "**STEPS:**\n",
        "\n",
        "\n",
        "*   STEP 0: Import Libraries and making DataFrame\n",
        "*   STEP 1: Exploration\n",
        "*   STEP 2: Looking for and handling NaN/Null/Missing Values\n",
        "*   STEP 3: Each column wise trying to get some conclusions and trends\n",
        "*   STEP 4: Trying to get some conclusions from data, correlation, trends and making sense in doing so\n",
        "*   STEP 5: Final summary of conclusion\n"
      ]
    },
    {
      "cell_type": "markdown",
      "metadata": {
        "id": "H6lf9ZFq45eU"
      },
      "source": [
        "# **STEP 0: Import Libraries and making DataFrame**"
      ]
    },
    {
      "cell_type": "code",
      "metadata": {
        "id": "Cclkr-0Caycr"
      },
      "source": [
        "import pandas as pd\n",
        "import numpy as np\n",
        "import matplotlib.pyplot as plt\n",
        "%matplotlib inline\n",
        "import seaborn as sns"
      ],
      "execution_count": 1,
      "outputs": []
    },
    {
      "cell_type": "code",
      "metadata": {
        "colab": {
          "base_uri": "https://localhost:8080/"
        },
        "id": "V_4_JrSxaozV",
        "outputId": "c60f269f-ac47-4a2b-83ad-b512d6f25464"
      },
      "source": [
        "from google.colab import drive\n",
        "drive.mount('/content/drive')"
      ],
      "execution_count": 2,
      "outputs": [
        {
          "output_type": "stream",
          "name": "stdout",
          "text": [
            "Mounted at /content/drive\n"
          ]
        }
      ]
    },
    {
      "cell_type": "code",
      "metadata": {
        "id": "dByMsuzT8Tnw"
      },
      "source": [
        "directory_path = '/content/drive/MyDrive/Alma Better/EDA Projects/Hotel Booking Analysis/'\n",
        "df = pd.read_csv(directory_path + 'Hotel Bookings.csv')"
      ],
      "execution_count": 3,
      "outputs": []
    },
    {
      "cell_type": "markdown",
      "metadata": {
        "id": "N612yhoot6z-"
      },
      "source": [
        "# **STEP 1: Exploration**"
      ]
    },
    {
      "cell_type": "code",
      "metadata": {
        "colab": {
          "base_uri": "https://localhost:8080/"
        },
        "id": "JinWze_Xucj6",
        "outputId": "28b00cb0-407e-4d35-d65d-3c88f2c724a8"
      },
      "source": [
        "df.shape"
      ],
      "execution_count": 4,
      "outputs": [
        {
          "output_type": "execute_result",
          "data": {
            "text/plain": [
              "(119390, 32)"
            ]
          },
          "metadata": {},
          "execution_count": 4
        }
      ]
    },
    {
      "cell_type": "code",
      "metadata": {
        "colab": {
          "base_uri": "https://localhost:8080/",
          "height": 0
        },
        "id": "IO_-S9eI1Wng",
        "outputId": "42587611-f056-41db-ceac-117727b8bd85"
      },
      "source": [
        "df.head(5)"
      ],
      "execution_count": 5,
      "outputs": [
        {
          "output_type": "execute_result",
          "data": {
            "text/html": [
              "<div>\n",
              "<style scoped>\n",
              "    .dataframe tbody tr th:only-of-type {\n",
              "        vertical-align: middle;\n",
              "    }\n",
              "\n",
              "    .dataframe tbody tr th {\n",
              "        vertical-align: top;\n",
              "    }\n",
              "\n",
              "    .dataframe thead th {\n",
              "        text-align: right;\n",
              "    }\n",
              "</style>\n",
              "<table border=\"1\" class=\"dataframe\">\n",
              "  <thead>\n",
              "    <tr style=\"text-align: right;\">\n",
              "      <th></th>\n",
              "      <th>hotel</th>\n",
              "      <th>is_canceled</th>\n",
              "      <th>lead_time</th>\n",
              "      <th>arrival_date_year</th>\n",
              "      <th>arrival_date_month</th>\n",
              "      <th>arrival_date_week_number</th>\n",
              "      <th>arrival_date_day_of_month</th>\n",
              "      <th>stays_in_weekend_nights</th>\n",
              "      <th>stays_in_week_nights</th>\n",
              "      <th>adults</th>\n",
              "      <th>children</th>\n",
              "      <th>babies</th>\n",
              "      <th>meal</th>\n",
              "      <th>country</th>\n",
              "      <th>market_segment</th>\n",
              "      <th>distribution_channel</th>\n",
              "      <th>is_repeated_guest</th>\n",
              "      <th>previous_cancellations</th>\n",
              "      <th>previous_bookings_not_canceled</th>\n",
              "      <th>reserved_room_type</th>\n",
              "      <th>assigned_room_type</th>\n",
              "      <th>booking_changes</th>\n",
              "      <th>deposit_type</th>\n",
              "      <th>agent</th>\n",
              "      <th>company</th>\n",
              "      <th>days_in_waiting_list</th>\n",
              "      <th>customer_type</th>\n",
              "      <th>adr</th>\n",
              "      <th>required_car_parking_spaces</th>\n",
              "      <th>total_of_special_requests</th>\n",
              "      <th>reservation_status</th>\n",
              "      <th>reservation_status_date</th>\n",
              "    </tr>\n",
              "  </thead>\n",
              "  <tbody>\n",
              "    <tr>\n",
              "      <th>0</th>\n",
              "      <td>Resort Hotel</td>\n",
              "      <td>0</td>\n",
              "      <td>342</td>\n",
              "      <td>2015</td>\n",
              "      <td>July</td>\n",
              "      <td>27</td>\n",
              "      <td>1</td>\n",
              "      <td>0</td>\n",
              "      <td>0</td>\n",
              "      <td>2</td>\n",
              "      <td>0.0</td>\n",
              "      <td>0</td>\n",
              "      <td>BB</td>\n",
              "      <td>PRT</td>\n",
              "      <td>Direct</td>\n",
              "      <td>Direct</td>\n",
              "      <td>0</td>\n",
              "      <td>0</td>\n",
              "      <td>0</td>\n",
              "      <td>C</td>\n",
              "      <td>C</td>\n",
              "      <td>3</td>\n",
              "      <td>No Deposit</td>\n",
              "      <td>NaN</td>\n",
              "      <td>NaN</td>\n",
              "      <td>0</td>\n",
              "      <td>Transient</td>\n",
              "      <td>0.0</td>\n",
              "      <td>0</td>\n",
              "      <td>0</td>\n",
              "      <td>Check-Out</td>\n",
              "      <td>2015-07-01</td>\n",
              "    </tr>\n",
              "    <tr>\n",
              "      <th>1</th>\n",
              "      <td>Resort Hotel</td>\n",
              "      <td>0</td>\n",
              "      <td>737</td>\n",
              "      <td>2015</td>\n",
              "      <td>July</td>\n",
              "      <td>27</td>\n",
              "      <td>1</td>\n",
              "      <td>0</td>\n",
              "      <td>0</td>\n",
              "      <td>2</td>\n",
              "      <td>0.0</td>\n",
              "      <td>0</td>\n",
              "      <td>BB</td>\n",
              "      <td>PRT</td>\n",
              "      <td>Direct</td>\n",
              "      <td>Direct</td>\n",
              "      <td>0</td>\n",
              "      <td>0</td>\n",
              "      <td>0</td>\n",
              "      <td>C</td>\n",
              "      <td>C</td>\n",
              "      <td>4</td>\n",
              "      <td>No Deposit</td>\n",
              "      <td>NaN</td>\n",
              "      <td>NaN</td>\n",
              "      <td>0</td>\n",
              "      <td>Transient</td>\n",
              "      <td>0.0</td>\n",
              "      <td>0</td>\n",
              "      <td>0</td>\n",
              "      <td>Check-Out</td>\n",
              "      <td>2015-07-01</td>\n",
              "    </tr>\n",
              "    <tr>\n",
              "      <th>2</th>\n",
              "      <td>Resort Hotel</td>\n",
              "      <td>0</td>\n",
              "      <td>7</td>\n",
              "      <td>2015</td>\n",
              "      <td>July</td>\n",
              "      <td>27</td>\n",
              "      <td>1</td>\n",
              "      <td>0</td>\n",
              "      <td>1</td>\n",
              "      <td>1</td>\n",
              "      <td>0.0</td>\n",
              "      <td>0</td>\n",
              "      <td>BB</td>\n",
              "      <td>GBR</td>\n",
              "      <td>Direct</td>\n",
              "      <td>Direct</td>\n",
              "      <td>0</td>\n",
              "      <td>0</td>\n",
              "      <td>0</td>\n",
              "      <td>A</td>\n",
              "      <td>C</td>\n",
              "      <td>0</td>\n",
              "      <td>No Deposit</td>\n",
              "      <td>NaN</td>\n",
              "      <td>NaN</td>\n",
              "      <td>0</td>\n",
              "      <td>Transient</td>\n",
              "      <td>75.0</td>\n",
              "      <td>0</td>\n",
              "      <td>0</td>\n",
              "      <td>Check-Out</td>\n",
              "      <td>2015-07-02</td>\n",
              "    </tr>\n",
              "    <tr>\n",
              "      <th>3</th>\n",
              "      <td>Resort Hotel</td>\n",
              "      <td>0</td>\n",
              "      <td>13</td>\n",
              "      <td>2015</td>\n",
              "      <td>July</td>\n",
              "      <td>27</td>\n",
              "      <td>1</td>\n",
              "      <td>0</td>\n",
              "      <td>1</td>\n",
              "      <td>1</td>\n",
              "      <td>0.0</td>\n",
              "      <td>0</td>\n",
              "      <td>BB</td>\n",
              "      <td>GBR</td>\n",
              "      <td>Corporate</td>\n",
              "      <td>Corporate</td>\n",
              "      <td>0</td>\n",
              "      <td>0</td>\n",
              "      <td>0</td>\n",
              "      <td>A</td>\n",
              "      <td>A</td>\n",
              "      <td>0</td>\n",
              "      <td>No Deposit</td>\n",
              "      <td>304.0</td>\n",
              "      <td>NaN</td>\n",
              "      <td>0</td>\n",
              "      <td>Transient</td>\n",
              "      <td>75.0</td>\n",
              "      <td>0</td>\n",
              "      <td>0</td>\n",
              "      <td>Check-Out</td>\n",
              "      <td>2015-07-02</td>\n",
              "    </tr>\n",
              "    <tr>\n",
              "      <th>4</th>\n",
              "      <td>Resort Hotel</td>\n",
              "      <td>0</td>\n",
              "      <td>14</td>\n",
              "      <td>2015</td>\n",
              "      <td>July</td>\n",
              "      <td>27</td>\n",
              "      <td>1</td>\n",
              "      <td>0</td>\n",
              "      <td>2</td>\n",
              "      <td>2</td>\n",
              "      <td>0.0</td>\n",
              "      <td>0</td>\n",
              "      <td>BB</td>\n",
              "      <td>GBR</td>\n",
              "      <td>Online TA</td>\n",
              "      <td>TA/TO</td>\n",
              "      <td>0</td>\n",
              "      <td>0</td>\n",
              "      <td>0</td>\n",
              "      <td>A</td>\n",
              "      <td>A</td>\n",
              "      <td>0</td>\n",
              "      <td>No Deposit</td>\n",
              "      <td>240.0</td>\n",
              "      <td>NaN</td>\n",
              "      <td>0</td>\n",
              "      <td>Transient</td>\n",
              "      <td>98.0</td>\n",
              "      <td>0</td>\n",
              "      <td>1</td>\n",
              "      <td>Check-Out</td>\n",
              "      <td>2015-07-03</td>\n",
              "    </tr>\n",
              "  </tbody>\n",
              "</table>\n",
              "</div>"
            ],
            "text/plain": [
              "          hotel  is_canceled  ...  reservation_status  reservation_status_date\n",
              "0  Resort Hotel            0  ...           Check-Out               2015-07-01\n",
              "1  Resort Hotel            0  ...           Check-Out               2015-07-01\n",
              "2  Resort Hotel            0  ...           Check-Out               2015-07-02\n",
              "3  Resort Hotel            0  ...           Check-Out               2015-07-02\n",
              "4  Resort Hotel            0  ...           Check-Out               2015-07-03\n",
              "\n",
              "[5 rows x 32 columns]"
            ]
          },
          "metadata": {},
          "execution_count": 5
        }
      ]
    },
    {
      "cell_type": "code",
      "metadata": {
        "colab": {
          "base_uri": "https://localhost:8080/",
          "height": 0
        },
        "id": "YO_-T5uwuZU7",
        "outputId": "cc475153-7dc2-415f-8f32-0ea84575868a"
      },
      "source": [
        "df.tail()"
      ],
      "execution_count": 6,
      "outputs": [
        {
          "output_type": "execute_result",
          "data": {
            "text/html": [
              "<div>\n",
              "<style scoped>\n",
              "    .dataframe tbody tr th:only-of-type {\n",
              "        vertical-align: middle;\n",
              "    }\n",
              "\n",
              "    .dataframe tbody tr th {\n",
              "        vertical-align: top;\n",
              "    }\n",
              "\n",
              "    .dataframe thead th {\n",
              "        text-align: right;\n",
              "    }\n",
              "</style>\n",
              "<table border=\"1\" class=\"dataframe\">\n",
              "  <thead>\n",
              "    <tr style=\"text-align: right;\">\n",
              "      <th></th>\n",
              "      <th>hotel</th>\n",
              "      <th>is_canceled</th>\n",
              "      <th>lead_time</th>\n",
              "      <th>arrival_date_year</th>\n",
              "      <th>arrival_date_month</th>\n",
              "      <th>arrival_date_week_number</th>\n",
              "      <th>arrival_date_day_of_month</th>\n",
              "      <th>stays_in_weekend_nights</th>\n",
              "      <th>stays_in_week_nights</th>\n",
              "      <th>adults</th>\n",
              "      <th>children</th>\n",
              "      <th>babies</th>\n",
              "      <th>meal</th>\n",
              "      <th>country</th>\n",
              "      <th>market_segment</th>\n",
              "      <th>distribution_channel</th>\n",
              "      <th>is_repeated_guest</th>\n",
              "      <th>previous_cancellations</th>\n",
              "      <th>previous_bookings_not_canceled</th>\n",
              "      <th>reserved_room_type</th>\n",
              "      <th>assigned_room_type</th>\n",
              "      <th>booking_changes</th>\n",
              "      <th>deposit_type</th>\n",
              "      <th>agent</th>\n",
              "      <th>company</th>\n",
              "      <th>days_in_waiting_list</th>\n",
              "      <th>customer_type</th>\n",
              "      <th>adr</th>\n",
              "      <th>required_car_parking_spaces</th>\n",
              "      <th>total_of_special_requests</th>\n",
              "      <th>reservation_status</th>\n",
              "      <th>reservation_status_date</th>\n",
              "    </tr>\n",
              "  </thead>\n",
              "  <tbody>\n",
              "    <tr>\n",
              "      <th>119385</th>\n",
              "      <td>City Hotel</td>\n",
              "      <td>0</td>\n",
              "      <td>23</td>\n",
              "      <td>2017</td>\n",
              "      <td>August</td>\n",
              "      <td>35</td>\n",
              "      <td>30</td>\n",
              "      <td>2</td>\n",
              "      <td>5</td>\n",
              "      <td>2</td>\n",
              "      <td>0.0</td>\n",
              "      <td>0</td>\n",
              "      <td>BB</td>\n",
              "      <td>BEL</td>\n",
              "      <td>Offline TA/TO</td>\n",
              "      <td>TA/TO</td>\n",
              "      <td>0</td>\n",
              "      <td>0</td>\n",
              "      <td>0</td>\n",
              "      <td>A</td>\n",
              "      <td>A</td>\n",
              "      <td>0</td>\n",
              "      <td>No Deposit</td>\n",
              "      <td>394.0</td>\n",
              "      <td>NaN</td>\n",
              "      <td>0</td>\n",
              "      <td>Transient</td>\n",
              "      <td>96.14</td>\n",
              "      <td>0</td>\n",
              "      <td>0</td>\n",
              "      <td>Check-Out</td>\n",
              "      <td>2017-09-06</td>\n",
              "    </tr>\n",
              "    <tr>\n",
              "      <th>119386</th>\n",
              "      <td>City Hotel</td>\n",
              "      <td>0</td>\n",
              "      <td>102</td>\n",
              "      <td>2017</td>\n",
              "      <td>August</td>\n",
              "      <td>35</td>\n",
              "      <td>31</td>\n",
              "      <td>2</td>\n",
              "      <td>5</td>\n",
              "      <td>3</td>\n",
              "      <td>0.0</td>\n",
              "      <td>0</td>\n",
              "      <td>BB</td>\n",
              "      <td>FRA</td>\n",
              "      <td>Online TA</td>\n",
              "      <td>TA/TO</td>\n",
              "      <td>0</td>\n",
              "      <td>0</td>\n",
              "      <td>0</td>\n",
              "      <td>E</td>\n",
              "      <td>E</td>\n",
              "      <td>0</td>\n",
              "      <td>No Deposit</td>\n",
              "      <td>9.0</td>\n",
              "      <td>NaN</td>\n",
              "      <td>0</td>\n",
              "      <td>Transient</td>\n",
              "      <td>225.43</td>\n",
              "      <td>0</td>\n",
              "      <td>2</td>\n",
              "      <td>Check-Out</td>\n",
              "      <td>2017-09-07</td>\n",
              "    </tr>\n",
              "    <tr>\n",
              "      <th>119387</th>\n",
              "      <td>City Hotel</td>\n",
              "      <td>0</td>\n",
              "      <td>34</td>\n",
              "      <td>2017</td>\n",
              "      <td>August</td>\n",
              "      <td>35</td>\n",
              "      <td>31</td>\n",
              "      <td>2</td>\n",
              "      <td>5</td>\n",
              "      <td>2</td>\n",
              "      <td>0.0</td>\n",
              "      <td>0</td>\n",
              "      <td>BB</td>\n",
              "      <td>DEU</td>\n",
              "      <td>Online TA</td>\n",
              "      <td>TA/TO</td>\n",
              "      <td>0</td>\n",
              "      <td>0</td>\n",
              "      <td>0</td>\n",
              "      <td>D</td>\n",
              "      <td>D</td>\n",
              "      <td>0</td>\n",
              "      <td>No Deposit</td>\n",
              "      <td>9.0</td>\n",
              "      <td>NaN</td>\n",
              "      <td>0</td>\n",
              "      <td>Transient</td>\n",
              "      <td>157.71</td>\n",
              "      <td>0</td>\n",
              "      <td>4</td>\n",
              "      <td>Check-Out</td>\n",
              "      <td>2017-09-07</td>\n",
              "    </tr>\n",
              "    <tr>\n",
              "      <th>119388</th>\n",
              "      <td>City Hotel</td>\n",
              "      <td>0</td>\n",
              "      <td>109</td>\n",
              "      <td>2017</td>\n",
              "      <td>August</td>\n",
              "      <td>35</td>\n",
              "      <td>31</td>\n",
              "      <td>2</td>\n",
              "      <td>5</td>\n",
              "      <td>2</td>\n",
              "      <td>0.0</td>\n",
              "      <td>0</td>\n",
              "      <td>BB</td>\n",
              "      <td>GBR</td>\n",
              "      <td>Online TA</td>\n",
              "      <td>TA/TO</td>\n",
              "      <td>0</td>\n",
              "      <td>0</td>\n",
              "      <td>0</td>\n",
              "      <td>A</td>\n",
              "      <td>A</td>\n",
              "      <td>0</td>\n",
              "      <td>No Deposit</td>\n",
              "      <td>89.0</td>\n",
              "      <td>NaN</td>\n",
              "      <td>0</td>\n",
              "      <td>Transient</td>\n",
              "      <td>104.40</td>\n",
              "      <td>0</td>\n",
              "      <td>0</td>\n",
              "      <td>Check-Out</td>\n",
              "      <td>2017-09-07</td>\n",
              "    </tr>\n",
              "    <tr>\n",
              "      <th>119389</th>\n",
              "      <td>City Hotel</td>\n",
              "      <td>0</td>\n",
              "      <td>205</td>\n",
              "      <td>2017</td>\n",
              "      <td>August</td>\n",
              "      <td>35</td>\n",
              "      <td>29</td>\n",
              "      <td>2</td>\n",
              "      <td>7</td>\n",
              "      <td>2</td>\n",
              "      <td>0.0</td>\n",
              "      <td>0</td>\n",
              "      <td>HB</td>\n",
              "      <td>DEU</td>\n",
              "      <td>Online TA</td>\n",
              "      <td>TA/TO</td>\n",
              "      <td>0</td>\n",
              "      <td>0</td>\n",
              "      <td>0</td>\n",
              "      <td>A</td>\n",
              "      <td>A</td>\n",
              "      <td>0</td>\n",
              "      <td>No Deposit</td>\n",
              "      <td>9.0</td>\n",
              "      <td>NaN</td>\n",
              "      <td>0</td>\n",
              "      <td>Transient</td>\n",
              "      <td>151.20</td>\n",
              "      <td>0</td>\n",
              "      <td>2</td>\n",
              "      <td>Check-Out</td>\n",
              "      <td>2017-09-07</td>\n",
              "    </tr>\n",
              "  </tbody>\n",
              "</table>\n",
              "</div>"
            ],
            "text/plain": [
              "             hotel  is_canceled  ...  reservation_status  reservation_status_date\n",
              "119385  City Hotel            0  ...           Check-Out               2017-09-06\n",
              "119386  City Hotel            0  ...           Check-Out               2017-09-07\n",
              "119387  City Hotel            0  ...           Check-Out               2017-09-07\n",
              "119388  City Hotel            0  ...           Check-Out               2017-09-07\n",
              "119389  City Hotel            0  ...           Check-Out               2017-09-07\n",
              "\n",
              "[5 rows x 32 columns]"
            ]
          },
          "metadata": {},
          "execution_count": 6
        }
      ]
    },
    {
      "cell_type": "markdown",
      "metadata": {
        "id": "XgUNPODE2y2m"
      },
      "source": [
        "# **STEP 2: Looking for and handling NaN/Null/Missing Values**"
      ]
    },
    {
      "cell_type": "code",
      "metadata": {
        "colab": {
          "base_uri": "https://localhost:8080/"
        },
        "id": "acyknO3z2yYu",
        "outputId": "35bfa35a-087f-41b4-9be9-fe8bd3152ddc"
      },
      "source": [
        "df.isna().sum().sort_index()"
      ],
      "execution_count": 7,
      "outputs": [
        {
          "output_type": "execute_result",
          "data": {
            "text/plain": [
              "adr                                    0\n",
              "adults                                 0\n",
              "agent                              16340\n",
              "arrival_date_day_of_month              0\n",
              "arrival_date_month                     0\n",
              "arrival_date_week_number               0\n",
              "arrival_date_year                      0\n",
              "assigned_room_type                     0\n",
              "babies                                 0\n",
              "booking_changes                        0\n",
              "children                               4\n",
              "company                           112593\n",
              "country                              488\n",
              "customer_type                          0\n",
              "days_in_waiting_list                   0\n",
              "deposit_type                           0\n",
              "distribution_channel                   0\n",
              "hotel                                  0\n",
              "is_canceled                            0\n",
              "is_repeated_guest                      0\n",
              "lead_time                              0\n",
              "market_segment                         0\n",
              "meal                                   0\n",
              "previous_bookings_not_canceled         0\n",
              "previous_cancellations                 0\n",
              "required_car_parking_spaces            0\n",
              "reservation_status                     0\n",
              "reservation_status_date                0\n",
              "reserved_room_type                     0\n",
              "stays_in_week_nights                   0\n",
              "stays_in_weekend_nights                0\n",
              "total_of_special_requests              0\n",
              "dtype: int64"
            ]
          },
          "metadata": {},
          "execution_count": 7
        }
      ]
    },
    {
      "cell_type": "markdown",
      "metadata": {
        "id": "1gJgOQzZvLOS"
      },
      "source": [
        "We have four columns with missing data, lets handel all missings value from each column"
      ]
    },
    {
      "cell_type": "code",
      "metadata": {
        "id": "oGl6SecR9HcR"
      },
      "source": [
        "# filling all na values with 0 in column: children, agent and company\n",
        "df[['children','agent','company']] = df[['children','agent','company']].fillna(0.0)"
      ],
      "execution_count": 8,
      "outputs": []
    },
    {
      "cell_type": "code",
      "metadata": {
        "id": "mL9OH5jC-HA4"
      },
      "source": [
        "# filling all na values from country with mode of non na values from country column\n",
        "df['country'].fillna(df['country'].mode().to_string(), inplace=True)"
      ],
      "execution_count": 9,
      "outputs": []
    },
    {
      "cell_type": "code",
      "metadata": {
        "id": "GbwL-6L2erTY"
      },
      "source": [
        "## Drop Rows where there is no adult, baby and child\n",
        "df = df.drop(df[(df.adults+df.babies+df.children)==0].index)"
      ],
      "execution_count": 10,
      "outputs": []
    },
    {
      "cell_type": "code",
      "metadata": {
        "colab": {
          "base_uri": "https://localhost:8080/"
        },
        "id": "JRRBeC5Ae6v-",
        "outputId": "f619fe35-7a3d-4015-9428-458ce2ccc740"
      },
      "source": [
        "# check for new shape after droping\n",
        "df.shape"
      ],
      "execution_count": 11,
      "outputs": [
        {
          "output_type": "execute_result",
          "data": {
            "text/plain": [
              "(119210, 32)"
            ]
          },
          "metadata": {},
          "execution_count": 11
        }
      ]
    },
    {
      "cell_type": "code",
      "metadata": {
        "colab": {
          "base_uri": "https://localhost:8080/"
        },
        "id": "0ezAqQ1mFZUU",
        "outputId": "e55f396e-6920-4a11-9fc7-b8ab79a96f20"
      },
      "source": [
        "# Check for missing values\n",
        "df.isna().sum()"
      ],
      "execution_count": 12,
      "outputs": [
        {
          "output_type": "execute_result",
          "data": {
            "text/plain": [
              "hotel                             0\n",
              "is_canceled                       0\n",
              "lead_time                         0\n",
              "arrival_date_year                 0\n",
              "arrival_date_month                0\n",
              "arrival_date_week_number          0\n",
              "arrival_date_day_of_month         0\n",
              "stays_in_weekend_nights           0\n",
              "stays_in_week_nights              0\n",
              "adults                            0\n",
              "children                          0\n",
              "babies                            0\n",
              "meal                              0\n",
              "country                           0\n",
              "market_segment                    0\n",
              "distribution_channel              0\n",
              "is_repeated_guest                 0\n",
              "previous_cancellations            0\n",
              "previous_bookings_not_canceled    0\n",
              "reserved_room_type                0\n",
              "assigned_room_type                0\n",
              "booking_changes                   0\n",
              "deposit_type                      0\n",
              "agent                             0\n",
              "company                           0\n",
              "days_in_waiting_list              0\n",
              "customer_type                     0\n",
              "adr                               0\n",
              "required_car_parking_spaces       0\n",
              "total_of_special_requests         0\n",
              "reservation_status                0\n",
              "reservation_status_date           0\n",
              "dtype: int64"
            ]
          },
          "metadata": {},
          "execution_count": 12
        }
      ]
    },
    {
      "cell_type": "markdown",
      "metadata": {
        "id": "TVOTw08x-uRu"
      },
      "source": [
        "Yeah! We are done with handelling missing data."
      ]
    },
    {
      "cell_type": "markdown",
      "metadata": {
        "id": "fWiCOK8z-6l3"
      },
      "source": [
        "**Looking for datatype changes in columns**"
      ]
    },
    {
      "cell_type": "code",
      "metadata": {
        "id": "azZuInw29Vzj"
      },
      "source": [
        "# changing datatype from float to int in column: children, agent and company\n",
        "df[['children','agent','company']] = df[['children','agent','company']].astype(int)"
      ],
      "execution_count": 13,
      "outputs": []
    },
    {
      "cell_type": "code",
      "metadata": {
        "id": "lawvPzGc_C5d"
      },
      "source": [
        "# getting reservation_status_date in proper datetime datatype\n",
        "df['reservation_status_date'] = pd.to_datetime(df['reservation_status_date'])"
      ],
      "execution_count": 14,
      "outputs": []
    },
    {
      "cell_type": "code",
      "metadata": {
        "colab": {
          "base_uri": "https://localhost:8080/"
        },
        "id": "DJTRFupM3dUR",
        "outputId": "8e9775c8-d229-46b9-dd55-efda036790fc"
      },
      "source": [
        "# Check for datatypes of all column as required\n",
        "df.info()"
      ],
      "execution_count": 15,
      "outputs": [
        {
          "output_type": "stream",
          "name": "stdout",
          "text": [
            "<class 'pandas.core.frame.DataFrame'>\n",
            "Int64Index: 119210 entries, 0 to 119389\n",
            "Data columns (total 32 columns):\n",
            " #   Column                          Non-Null Count   Dtype         \n",
            "---  ------                          --------------   -----         \n",
            " 0   hotel                           119210 non-null  object        \n",
            " 1   is_canceled                     119210 non-null  int64         \n",
            " 2   lead_time                       119210 non-null  int64         \n",
            " 3   arrival_date_year               119210 non-null  int64         \n",
            " 4   arrival_date_month              119210 non-null  object        \n",
            " 5   arrival_date_week_number        119210 non-null  int64         \n",
            " 6   arrival_date_day_of_month       119210 non-null  int64         \n",
            " 7   stays_in_weekend_nights         119210 non-null  int64         \n",
            " 8   stays_in_week_nights            119210 non-null  int64         \n",
            " 9   adults                          119210 non-null  int64         \n",
            " 10  children                        119210 non-null  int64         \n",
            " 11  babies                          119210 non-null  int64         \n",
            " 12  meal                            119210 non-null  object        \n",
            " 13  country                         119210 non-null  object        \n",
            " 14  market_segment                  119210 non-null  object        \n",
            " 15  distribution_channel            119210 non-null  object        \n",
            " 16  is_repeated_guest               119210 non-null  int64         \n",
            " 17  previous_cancellations          119210 non-null  int64         \n",
            " 18  previous_bookings_not_canceled  119210 non-null  int64         \n",
            " 19  reserved_room_type              119210 non-null  object        \n",
            " 20  assigned_room_type              119210 non-null  object        \n",
            " 21  booking_changes                 119210 non-null  int64         \n",
            " 22  deposit_type                    119210 non-null  object        \n",
            " 23  agent                           119210 non-null  int64         \n",
            " 24  company                         119210 non-null  int64         \n",
            " 25  days_in_waiting_list            119210 non-null  int64         \n",
            " 26  customer_type                   119210 non-null  object        \n",
            " 27  adr                             119210 non-null  float64       \n",
            " 28  required_car_parking_spaces     119210 non-null  int64         \n",
            " 29  total_of_special_requests       119210 non-null  int64         \n",
            " 30  reservation_status              119210 non-null  object        \n",
            " 31  reservation_status_date         119210 non-null  datetime64[ns]\n",
            "dtypes: datetime64[ns](1), float64(1), int64(19), object(11)\n",
            "memory usage: 30.0+ MB\n"
          ]
        }
      ]
    },
    {
      "cell_type": "markdown",
      "metadata": {
        "id": "ToJBZTg9xJKH"
      },
      "source": [
        "# **STEP 3: Each column wise trying to get some conclusions and trends**"
      ]
    },
    {
      "cell_type": "markdown",
      "metadata": {
        "id": "bajz_v4F0Gwl"
      },
      "source": [
        "## **Column:** hotel"
      ]
    },
    {
      "cell_type": "code",
      "metadata": {
        "colab": {
          "base_uri": "https://localhost:8080/"
        },
        "id": "VYt_CD8AU2kB",
        "outputId": "b21e03fe-a7bb-4cbe-9779-ef14c6d934bc"
      },
      "source": [
        "categories_in_hotel = df.hotel.unique()\n",
        "print(categories_in_hotel)"
      ],
      "execution_count": 16,
      "outputs": [
        {
          "output_type": "stream",
          "name": "stdout",
          "text": [
            "['Resort Hotel' 'City Hotel']\n"
          ]
        }
      ]
    },
    {
      "cell_type": "code",
      "metadata": {
        "id": "2hFy2tVhWQyZ"
      },
      "source": [
        "df.hotel = df.hotel.str.replace(' ','_')"
      ],
      "execution_count": 17,
      "outputs": []
    },
    {
      "cell_type": "code",
      "metadata": {
        "colab": {
          "base_uri": "https://localhost:8080/",
          "height": 0
        },
        "id": "McQSmMzNA1vf",
        "outputId": "b5cd1b0b-4b7f-43ed-dc96-a29124230f69"
      },
      "source": [
        "df.groupby('hotel').size().plot(kind='pie', labels=[\"City Hotel\", \"Resort Hotel\"], fontsize=15, autopct='%.2f',  figsize=(6, 6))\n",
        "plt.ylabel('% Bookings' , fontsize=16)\n",
        "plt.title('Types of Hotel', fontsize=16)"
      ],
      "execution_count": 18,
      "outputs": [
        {
          "output_type": "execute_result",
          "data": {
            "text/plain": [
              "Text(0.5, 1.0, 'Types of Hotel')"
            ]
          },
          "metadata": {},
          "execution_count": 18
        },
        {
          "output_type": "display_data",
          "data": {
            "image/png": "[encoded data removed]",
            "text/plain": [
              "<Figure size 432x432 with 1 Axes>"
            ]
          },
          "metadata": {}
        }
      ]
    },
    {
      "cell_type": "markdown",
      "metadata": {
        "id": "AeGPYByLbPUz"
      },
      "source": [
        "**Conclusion:** There is almost double bookings in City Hotel as compared to Resort Hotel."
      ]
    },
    {
      "cell_type": "markdown",
      "metadata": {
        "id": "gvyw47gm0TRC"
      },
      "source": [
        "## **Column:** is_canceled"
      ]
    },
    {
      "cell_type": "code",
      "metadata": {
        "colab": {
          "base_uri": "https://localhost:8080/"
        },
        "id": "wNCFgfMl091t",
        "outputId": "3ca8d83a-d51a-40f2-e299-fbfd08328914"
      },
      "source": [
        "categories_in_is_canceled = df.is_canceled.unique()\n",
        "print(categories_in_is_canceled)"
      ],
      "execution_count": 19,
      "outputs": [
        {
          "output_type": "stream",
          "name": "stdout",
          "text": [
            "[0 1]\n"
          ]
        }
      ]
    },
    {
      "cell_type": "markdown",
      "metadata": {
        "id": "KXbUXhaM1Uww"
      },
      "source": [
        "0 for Booking Not Canceled;\n",
        "1 for Booking Canceled OR No Show"
      ]
    },
    {
      "cell_type": "code",
      "metadata": {
        "id": "yVo8l0nkJ7Zv"
      },
      "source": [
        "# replace 0 by Not canceled and 1 by Canceled\n",
        "df.is_canceled = df.is_canceled.replace(0,'Not_Canceled').replace(1, 'Canceled')"
      ],
      "execution_count": 20,
      "outputs": []
    },
    {
      "cell_type": "code",
      "metadata": {
        "colab": {
          "base_uri": "https://localhost:8080/",
          "height": 0
        },
        "id": "QgUZPTvGKhA0",
        "outputId": "0096e3b9-3e37-44b7-a657-5791b8e47eea"
      },
      "source": [
        "df.groupby('is_canceled').size().plot(kind='pie', labels=[\"Bookings Canceled\", \"Bookings Not Canceled\"], fontsize=15, autopct='%.2f',  figsize=(6, 6))\n",
        "plt.ylabel('Percentage' , fontsize=16)\n",
        "plt.title('Bookings Cancelation Status', fontsize=16)"
      ],
      "execution_count": 21,
      "outputs": [
        {
          "output_type": "execute_result",
          "data": {
            "text/plain": [
              "Text(0.5, 1.0, 'Bookings Cancelation Status')"
            ]
          },
          "metadata": {},
          "execution_count": 21
        },
        {
          "output_type": "display_data",
          "data": {
            "image/png": "[encoded data removed]",
            "text/plain": [
              "<Figure size 432x432 with 1 Axes>"
            ]
          },
          "metadata": {}
        }
      ]
    },
    {
      "cell_type": "markdown",
      "metadata": {
        "id": "LO7lsnrI3PAd"
      },
      "source": [
        "**Conclusion:** 37% of bookings gets canceled."
      ]
    },
    {
      "cell_type": "markdown",
      "metadata": {
        "id": "pd0yqI3n3mDn"
      },
      "source": [
        "## **Column:** lead_time"
      ]
    },
    {
      "cell_type": "markdown",
      "metadata": {
        "id": "VXyUgRzR42nw"
      },
      "source": [
        "Booking **Lead Time** is the period of time between when a guest makes a reservation, and the actual check-in date"
      ]
    },
    {
      "cell_type": "markdown",
      "metadata": {
        "id": "qxSXgnly5Iyr"
      },
      "source": [
        "Lead time will be zero for same day booking"
      ]
    },
    {
      "cell_type": "code",
      "metadata": {
        "colab": {
          "base_uri": "https://localhost:8080/"
        },
        "id": "Bu3nq7bJ5pdp",
        "outputId": "fd83c934-4ae1-45a1-c73a-49e1eedf7018"
      },
      "source": [
        "same_day_booking= round(df['lead_time'].value_counts(normalize=True) * 100, 2)[0]\n",
        "print(f\"Same day bookings are {same_day_booking}%\")\n",
        "within_week_booking= round((df['lead_time'].value_counts(normalize=True) * 100)[1:8].sum(), 0)\n",
        "print(f\"Within a week bookings are {within_week_booking}%\")\n",
        "within_month_booking= round((df['lead_time'].value_counts(normalize=True) * 100)[0:31].sum(), 0)\n",
        "print(f\"Within a month bookings are {within_month_booking}%\")\n",
        "within_3_months_booking= round((df['lead_time'].value_counts(normalize=True) * 100)[0:91].sum(), 0)\n",
        "print(f\"Within 3 months bookings are {within_3_months_booking}%\")\n",
        "within_6_months_booking= round((df['lead_time'].value_counts(normalize=True) * 100)[0:181].sum(), 0)\n",
        "print(f\"Within 6 months bookings are {within_6_months_booking}%\")\n",
        "within_year_booking= round((df['lead_time'].value_counts(normalize=True) * 100)[0:366].sum(), 0)\n",
        "print(f\"Within a year bookings are {within_year_booking}%\")"
      ],
      "execution_count": 22,
      "outputs": [
        {
          "output_type": "stream",
          "name": "stdout",
          "text": [
            "Same day bookings are 5.25%\n",
            "Within a week bookings are 11.0%\n",
            "Within a month bookings are 33.0%\n",
            "Within 3 months bookings are 58.0%\n",
            "Within 6 months bookings are 80.0%\n",
            "Within a year bookings are 98.0%\n"
          ]
        }
      ]
    },
    {
      "cell_type": "code",
      "metadata": {
        "colab": {
          "base_uri": "https://localhost:8080/",
          "height": 0
        },
        "id": "er8CMfQlmagG",
        "outputId": "f375d052-f8a3-496b-f151-b9cad0f3fc0c"
      },
      "source": [
        "df.groupby('lead_time').size()[:61].plot(kind='bar', figsize=(20, 4))"
      ],
      "execution_count": 23,
      "outputs": [
        {
          "output_type": "execute_result",
          "data": {
            "text/plain": [
              "<matplotlib.axes._subplots.AxesSubplot at 0x7f3f9589e790>"
            ]
          },
          "metadata": {},
          "execution_count": 23
        },
        {
          "output_type": "display_data",
          "data": {
            "image/png": "[encoded data removed]",
            "text/plain": [
              "<Figure size 1440x288 with 1 Axes>"
            ]
          },
          "metadata": {
            "needs_background": "light"
          }
        }
      ]
    },
    {
      "cell_type": "code",
      "metadata": {
        "colab": {
          "base_uri": "https://localhost:8080/",
          "height": 0
        },
        "id": "0RBFZnI8nMdZ",
        "outputId": "8951b7d0-559b-490a-82aa-13305b82aa41"
      },
      "source": [
        "df.groupby('lead_time').size()[61:121].plot(kind='bar', figsize=(20, 4))"
      ],
      "execution_count": 24,
      "outputs": [
        {
          "output_type": "execute_result",
          "data": {
            "text/plain": [
              "<matplotlib.axes._subplots.AxesSubplot at 0x7f3f95784950>"
            ]
          },
          "metadata": {},
          "execution_count": 24
        },
        {
          "output_type": "display_data",
          "data": {
            "image/png": "[encoded data removed]",
            "text/plain": [
              "<Figure size 1440x288 with 1 Axes>"
            ]
          },
          "metadata": {
            "needs_background": "light"
          }
        }
      ]
    },
    {
      "cell_type": "markdown",
      "metadata": {
        "id": "FdTyS3V6-eXE"
      },
      "source": [
        "**Conlusion:**\n",
        "1. 5.31% bookings are same day booking which means that people prefers to book hotel earlier.\n",
        "\n",
        "2. Almost 60% of bookings are done within 90 days of arrival."
      ]
    },
    {
      "cell_type": "markdown",
      "metadata": {
        "id": "snOvf2z6B7YL"
      },
      "source": [
        "## **Column:** arrival_date_year"
      ]
    },
    {
      "cell_type": "code",
      "metadata": {
        "colab": {
          "base_uri": "https://localhost:8080/",
          "height": 0
        },
        "id": "Vlgo0DzRXhkI",
        "outputId": "ca606bf0-62cb-4a8f-8ce1-be4311d44717"
      },
      "source": [
        "df.groupby('arrival_date_year').size().plot(kind='pie', fontsize=15, autopct='%.2f',  figsize=(6, 6))\n",
        "plt.ylabel('Bookings Percentage' , fontsize=16)\n",
        "plt.title('Year WIse Bookings', fontsize=16)"
      ],
      "execution_count": 25,
      "outputs": [
        {
          "output_type": "execute_result",
          "data": {
            "text/plain": [
              "Text(0.5, 1.0, 'Year WIse Bookings')"
            ]
          },
          "metadata": {},
          "execution_count": 25
        },
        {
          "output_type": "display_data",
          "data": {
            "image/png": "[encoded data removed]",
            "text/plain": [
              "<Figure size 432x432 with 1 Axes>"
            ]
          },
          "metadata": {}
        }
      ]
    },
    {
      "cell_type": "markdown",
      "metadata": {
        "id": "dorjIKL8GzGt"
      },
      "source": [
        "## **Column:** arrival_date_month"
      ]
    },
    {
      "cell_type": "code",
      "metadata": {
        "colab": {
          "base_uri": "https://localhost:8080/",
          "height": 0
        },
        "id": "TOMFko4_ZWik",
        "outputId": "8d604e1c-d95a-49c8-ba4a-a0411390a20b"
      },
      "source": [
        "df['arrival_date_month'].value_counts().plot(kind='bar')\n",
        "plt.xlabel('Months' , fontsize=16)\n",
        "plt.ylabel('No. of Bookings' , fontsize=16)\n",
        "plt.title('Monthly Bookings count', fontsize=16)"
      ],
      "execution_count": 26,
      "outputs": [
        {
          "output_type": "execute_result",
          "data": {
            "text/plain": [
              "Text(0.5, 1.0, 'Monthly Bookings count')"
            ]
          },
          "metadata": {},
          "execution_count": 26
        },
        {
          "output_type": "display_data",
          "data": {
            "image/png": "[encoded data removed]",
            "text/plain": [
              "<Figure size 432x288 with 1 Axes>"
            ]
          },
          "metadata": {
            "needs_background": "light"
          }
        }
      ]
    },
    {
      "cell_type": "markdown",
      "metadata": {
        "id": "kf1Cy9vfIEcK"
      },
      "source": [
        "**Conclusion:**\n",
        "1. Highest hotel bookings are in month August.\n",
        "2. Lowest hotel bookings are in month January."
      ]
    },
    {
      "cell_type": "markdown",
      "metadata": {
        "id": "Zno5JDM9I1za"
      },
      "source": [
        "## **Column:** arrival_date_week_number"
      ]
    },
    {
      "cell_type": "code",
      "metadata": {
        "colab": {
          "base_uri": "https://localhost:8080/",
          "height": 0
        },
        "id": "7QNLPlJ1c2IG",
        "outputId": "f61f17bd-6af1-4b95-c05e-f33fcb83aa10"
      },
      "source": [
        "df['arrival_date_week_number'].value_counts().sort_index().plot(kind='bar', figsize=(20,5))"
      ],
      "execution_count": 27,
      "outputs": [
        {
          "output_type": "execute_result",
          "data": {
            "text/plain": [
              "<matplotlib.axes._subplots.AxesSubplot at 0x7f3f9541ee50>"
            ]
          },
          "metadata": {},
          "execution_count": 27
        },
        {
          "output_type": "display_data",
          "data": {
            "image/png": "[encoded data removed]",
            "text/plain": [
              "<Figure size 1440x360 with 1 Axes>"
            ]
          },
          "metadata": {
            "needs_background": "light"
          }
        }
      ]
    },
    {
      "cell_type": "markdown",
      "metadata": {
        "id": "e2ZKq6H5sXtS"
      },
      "source": [
        "**Conclusion:**\n",
        "1. Highest hotel bookings are in week 33.\n",
        "2. Lowest hotel bookings are in week 51."
      ]
    },
    {
      "cell_type": "markdown",
      "metadata": {
        "id": "bwIfNM2Gssnj"
      },
      "source": [
        "## **Column:** arrival_date_day_of_month"
      ]
    },
    {
      "cell_type": "code",
      "metadata": {
        "colab": {
          "base_uri": "https://localhost:8080/",
          "height": 0
        },
        "id": "NVaRPTwAdcfK",
        "outputId": "1287c7aa-316c-480e-ed4f-6d63c3db2bbc"
      },
      "source": [
        "df['arrival_date_day_of_month'].value_counts().sort_index().plot(kind='bar', figsize=(20,5))"
      ],
      "execution_count": 28,
      "outputs": [
        {
          "output_type": "execute_result",
          "data": {
            "text/plain": [
              "<matplotlib.axes._subplots.AxesSubplot at 0x7f3f952b8650>"
            ]
          },
          "metadata": {},
          "execution_count": 28
        },
        {
          "output_type": "display_data",
          "data": {
            "image/png": "[encoded data removed]",
            "text/plain": [
              "<Figure size 1440x360 with 1 Axes>"
            ]
          },
          "metadata": {
            "needs_background": "light"
          }
        }
      ]
    },
    {
      "cell_type": "markdown",
      "metadata": {
        "id": "xvKGZj0XgZ-6"
      },
      "source": [
        "Nothing relevent here to conclude."
      ]
    },
    {
      "cell_type": "markdown",
      "metadata": {
        "id": "svKuRkgrtzl2"
      },
      "source": [
        "## **Column:** stays_in_weekend_nights"
      ]
    },
    {
      "cell_type": "code",
      "metadata": {
        "colab": {
          "base_uri": "https://localhost:8080/",
          "height": 0
        },
        "id": "XS6Ddaefhvj8",
        "outputId": "add95b7d-8a70-4846-f359-00d1c00c9722"
      },
      "source": [
        "df['stays_in_weekend_nights'].value_counts().sort_index()[1:7].plot(kind='bar', figsize=(5,5))"
      ],
      "execution_count": 29,
      "outputs": [
        {
          "output_type": "execute_result",
          "data": {
            "text/plain": [
              "<matplotlib.axes._subplots.AxesSubplot at 0x7f3f9520aad0>"
            ]
          },
          "metadata": {},
          "execution_count": 29
        },
        {
          "output_type": "display_data",
          "data": {
            "image/png": "[encoded data removed]",
            "text/plain": [
              "<Figure size 360x360 with 1 Axes>"
            ]
          },
          "metadata": {
            "needs_background": "light"
          }
        }
      ]
    },
    {
      "cell_type": "markdown",
      "metadata": {
        "id": "yiteauQEju2e"
      },
      "source": [
        "**Conclusion:** Most of the bookings are for two nights."
      ]
    },
    {
      "cell_type": "markdown",
      "metadata": {
        "id": "PPDcm5k7zlkC"
      },
      "source": [
        "## **Column:**stays_in_week_nights"
      ]
    },
    {
      "cell_type": "code",
      "metadata": {
        "colab": {
          "base_uri": "https://localhost:8080/",
          "height": 0
        },
        "id": "MKJnqUS2grnc",
        "outputId": "946ad02c-4008-420d-9ecd-f5a37e609307"
      },
      "source": [
        "df['stays_in_week_nights'].value_counts().sort_index()[1:12].plot(kind='bar', figsize=(10,5))"
      ],
      "execution_count": 30,
      "outputs": [
        {
          "output_type": "execute_result",
          "data": {
            "text/plain": [
              "<matplotlib.axes._subplots.AxesSubplot at 0x7f3f95197290>"
            ]
          },
          "metadata": {},
          "execution_count": 30
        },
        {
          "output_type": "display_data",
          "data": {
            "image/png": "[encoded data removed]",
            "text/plain": [
              "<Figure size 720x360 with 1 Axes>"
            ]
          },
          "metadata": {
            "needs_background": "light"
          }
        }
      ]
    },
    {
      "cell_type": "markdown",
      "metadata": {
        "id": "Wtt190tJkGUE"
      },
      "source": [
        "**Conclusion:** Most of the bookings are for two nights."
      ]
    },
    {
      "cell_type": "markdown",
      "metadata": {
        "id": "5Giz_cY20nRi"
      },
      "source": [
        "## **Column:**adults"
      ]
    },
    {
      "cell_type": "code",
      "metadata": {
        "colab": {
          "base_uri": "https://localhost:8080/",
          "height": 0
        },
        "id": "FbaCF0qUkxSp",
        "outputId": "baf79c3a-a2a0-43a5-a9ff-398e46500f02"
      },
      "source": [
        "df['adults'].value_counts().sort_index()[1:6].plot(kind='bar', figsize=(5,5))"
      ],
      "execution_count": 31,
      "outputs": [
        {
          "output_type": "execute_result",
          "data": {
            "text/plain": [
              "<matplotlib.axes._subplots.AxesSubplot at 0x7f3f950b2910>"
            ]
          },
          "metadata": {},
          "execution_count": 31
        },
        {
          "output_type": "display_data",
          "data": {
            "image/png": "[encoded data removed]",
            "text/plain": [
              "<Figure size 360x360 with 1 Axes>"
            ]
          },
          "metadata": {
            "needs_background": "light"
          }
        }
      ]
    },
    {
      "cell_type": "code",
      "metadata": {
        "colab": {
          "base_uri": "https://localhost:8080/"
        },
        "id": "mj5Dx3J8I5nP",
        "outputId": "f357cb3e-0eaf-450a-a464-ede47d29df7a"
      },
      "source": [
        "df['adults'].value_counts().sort_index()"
      ],
      "execution_count": 32,
      "outputs": [
        {
          "output_type": "execute_result",
          "data": {
            "text/plain": [
              "0       223\n",
              "1     23027\n",
              "2     89680\n",
              "3      6202\n",
              "4        62\n",
              "5         2\n",
              "6         1\n",
              "10        1\n",
              "20        2\n",
              "26        5\n",
              "27        2\n",
              "40        1\n",
              "50        1\n",
              "55        1\n",
              "Name: adults, dtype: int64"
            ]
          },
          "metadata": {},
          "execution_count": 32
        }
      ]
    },
    {
      "cell_type": "markdown",
      "metadata": {
        "id": "xmZGiu-2G2Gd"
      },
      "source": [
        "## **Column:**children"
      ]
    },
    {
      "cell_type": "code",
      "metadata": {
        "colab": {
          "base_uri": "https://localhost:8080/"
        },
        "id": "RiV5eTUoIscm",
        "outputId": "19748570-ae20-4710-db8c-ae95a8ef67d3"
      },
      "source": [
        "round(df['children'].value_counts(normalize=True) * 100, 2)"
      ],
      "execution_count": 33,
      "outputs": [
        {
          "output_type": "execute_result",
          "data": {
            "text/plain": [
              "0     92.79\n",
              "1      4.08\n",
              "2      3.06\n",
              "3      0.06\n",
              "10     0.00\n",
              "Name: children, dtype: float64"
            ]
          },
          "metadata": {},
          "execution_count": 33
        }
      ]
    },
    {
      "cell_type": "code",
      "metadata": {
        "colab": {
          "base_uri": "https://localhost:8080/",
          "height": 0
        },
        "id": "pz4S_0halj6g",
        "outputId": "ffa3fa2b-02fe-4cd3-c8e2-b85c4f5626a1"
      },
      "source": [
        "df.groupby('children').size()[0:3].plot(kind='pie', labels=[\"No Children\", \"1 Child\", \"2 Children\"], fontsize=15, autopct='%.2f',  figsize=(6, 6))\n",
        "plt.title('Percentage Bookings', fontsize=16)\n",
        "plt.ylabel('')"
      ],
      "execution_count": 34,
      "outputs": [
        {
          "output_type": "execute_result",
          "data": {
            "text/plain": [
              "Text(0, 0.5, '')"
            ]
          },
          "metadata": {},
          "execution_count": 34
        },
        {
          "output_type": "display_data",
          "data": {
            "image/png": "[encoded data removed]",
            "text/plain": [
              "<Figure size 432x432 with 1 Axes>"
            ]
          },
          "metadata": {}
        }
      ]
    },
    {
      "cell_type": "markdown",
      "metadata": {
        "id": "qxew5yJuHTMU"
      },
      "source": [
        "## **Column:**babies"
      ]
    },
    {
      "cell_type": "code",
      "metadata": {
        "colab": {
          "base_uri": "https://localhost:8080/",
          "height": 0
        },
        "id": "vf2-lVwqnBhQ",
        "outputId": "2fcdb650-20e6-4330-94a6-bef2b64eb8fd"
      },
      "source": [
        "df.groupby('babies').size()[0:3].plot(kind='pie', labels=[\"No Babies\", \"1 Baby\", \"2 Babies\"], fontsize=15, autopct='%.2f',  figsize=(6, 6))\n",
        "plt.title('Percentage Bookings', fontsize=16)\n",
        "plt.ylabel('')"
      ],
      "execution_count": 35,
      "outputs": [
        {
          "output_type": "execute_result",
          "data": {
            "text/plain": [
              "Text(0, 0.5, '')"
            ]
          },
          "metadata": {},
          "execution_count": 35
        },
        {
          "output_type": "display_data",
          "data": {
            "image/png": "[encoded data removed]",
            "text/plain": [
              "<Figure size 432x432 with 1 Axes>"
            ]
          },
          "metadata": {}
        }
      ]
    },
    {
      "cell_type": "code",
      "metadata": {
        "colab": {
          "base_uri": "https://localhost:8080/"
        },
        "id": "qcXdL87_AxkL",
        "outputId": "da913e53-d659-430e-af3c-516894ef4955"
      },
      "source": [
        "round(df['babies'].value_counts(normalize=True) * 100, 2)"
      ],
      "execution_count": 36,
      "outputs": [
        {
          "output_type": "execute_result",
          "data": {
            "text/plain": [
              "0     99.23\n",
              "1      0.75\n",
              "2      0.01\n",
              "10     0.00\n",
              "9      0.00\n",
              "Name: babies, dtype: float64"
            ]
          },
          "metadata": {},
          "execution_count": 36
        }
      ]
    },
    {
      "cell_type": "markdown",
      "metadata": {
        "id": "dxOu2o-bHzwF"
      },
      "source": [
        "## **Column:** meal"
      ]
    },
    {
      "cell_type": "code",
      "metadata": {
        "colab": {
          "base_uri": "https://localhost:8080/",
          "height": 0
        },
        "id": "6NY0Nk_cnz9V",
        "outputId": "ebf8317c-60e7-423e-a63f-77bf8b7c9e94"
      },
      "source": [
        "df.groupby('meal').size().plot(kind='pie', labels=[\"BB\", \"FB\", \"HB\", \"SC\", \"Undefined\"], fontsize=15, autopct='%.2f',  figsize=(6, 6))\n",
        "plt.title('Percentage Bookings', fontsize=16)\n",
        "plt.ylabel('')"
      ],
      "execution_count": 37,
      "outputs": [
        {
          "output_type": "execute_result",
          "data": {
            "text/plain": [
              "Text(0, 0.5, '')"
            ]
          },
          "metadata": {},
          "execution_count": 37
        },
        {
          "output_type": "display_data",
          "data": {
            "image/png": "[encoded data removed]",
            "text/plain": [
              "<Figure size 432x432 with 1 Axes>"
            ]
          },
          "metadata": {}
        }
      ]
    },
    {
      "cell_type": "markdown",
      "metadata": {
        "id": "VA2JLngrISdE"
      },
      "source": [
        "- BB: Bed & Breakfast\n",
        "\n",
        "- HB: Half Board (Breakfast and Dinner normally)\n",
        "\n",
        "- FB: Full Board (Beakfast, Lunch and Dinner)\n",
        "\n",
        "- SC: Self Catering"
      ]
    },
    {
      "cell_type": "markdown",
      "metadata": {
        "id": "2z70KNBTI7JD"
      },
      "source": [
        "## **`Column:`** country"
      ]
    },
    {
      "cell_type": "code",
      "metadata": {
        "colab": {
          "base_uri": "https://localhost:8080/",
          "height": 0
        },
        "id": "Tyb9_mAFpBA2",
        "outputId": "68231008-affa-4b1f-f9f1-4d5782b638c1"
      },
      "source": [
        "df['country'].value_counts()[:10].plot(kind='bar', figsize=(10,5))\n",
        "plt.title('Top 10 Countries with Highest Bookings', fontsize=16)\n",
        "plt.ylabel('No. of Bookings')"
      ],
      "execution_count": 38,
      "outputs": [
        {
          "output_type": "execute_result",
          "data": {
            "text/plain": [
              "Text(0, 0.5, 'No. of Bookings')"
            ]
          },
          "metadata": {},
          "execution_count": 38
        },
        {
          "output_type": "display_data",
          "data": {
            "image/png": "[encoded data removed]",
            "text/plain": [
              "<Figure size 720x360 with 1 Axes>"
            ]
          },
          "metadata": {
            "needs_background": "light"
          }
        }
      ]
    },
    {
      "cell_type": "markdown",
      "metadata": {
        "id": "upmGYdXMqDw1"
      },
      "source": [
        "**Conclusion:** Country which has highest number of bookings was PRT"
      ]
    },
    {
      "cell_type": "code",
      "metadata": {
        "colab": {
          "base_uri": "https://localhost:8080/"
        },
        "id": "VysrhwEhgC5d",
        "outputId": "b5553441-2770-4444-dc71-ccdafc8e030f"
      },
      "source": [
        "bookings_of_top_10_countries = (df['country'].value_counts(normalize=True)*100)[:10].sum()\n",
        "print(f\"Above top 10 countries with highest bookings altogher cover {round(bookings_of_top_10_countries, 2)}% bookings.\")"
      ],
      "execution_count": 39,
      "outputs": [
        {
          "output_type": "stream",
          "name": "stdout",
          "text": [
            "Above top 10 countries with highest bookings altogher cover 84.43% bookings.\n"
          ]
        }
      ]
    },
    {
      "cell_type": "markdown",
      "metadata": {
        "id": "6y1NP3juKEpl"
      },
      "source": [
        "## **Column:** market_segment"
      ]
    },
    {
      "cell_type": "code",
      "metadata": {
        "colab": {
          "base_uri": "https://localhost:8080/",
          "height": 0
        },
        "id": "-osnohfsrO7F",
        "outputId": "347aa74e-3b16-4729-912f-651c8f62302f"
      },
      "source": [
        "round(df['market_segment'].value_counts(normalize=True) * 100, 2).plot(kind='bar', figsize=(8,5))\n",
        "plt.title('Market Segments for Hotel Bookings', fontsize=16)\n",
        "plt.ylabel('Percentage Bookings')"
      ],
      "execution_count": 40,
      "outputs": [
        {
          "output_type": "execute_result",
          "data": {
            "text/plain": [
              "Text(0, 0.5, 'Percentage Bookings')"
            ]
          },
          "metadata": {},
          "execution_count": 40
        },
        {
          "output_type": "display_data",
          "data": {
            "image/png": "[encoded data removed]",
            "text/plain": [
              "<Figure size 576x360 with 1 Axes>"
            ]
          },
          "metadata": {
            "needs_background": "light"
          }
        }
      ]
    },
    {
      "cell_type": "code",
      "metadata": {
        "colab": {
          "base_uri": "https://localhost:8080/"
        },
        "id": "Bwa5vKEZAxcA",
        "outputId": "9e7808d6-5b6d-464f-80b5-b6c05a0a3e84"
      },
      "source": [
        "round(df['market_segment'].value_counts(normalize=True) * 100, 2)"
      ],
      "execution_count": 41,
      "outputs": [
        {
          "output_type": "execute_result",
          "data": {
            "text/plain": [
              "Online TA        47.32\n",
              "Offline TA/TO    20.29\n",
              "Groups           16.60\n",
              "Direct           10.55\n",
              "Corporate         4.43\n",
              "Complementary     0.61\n",
              "Aviation          0.20\n",
              "Undefined         0.00\n",
              "Name: market_segment, dtype: float64"
            ]
          },
          "metadata": {},
          "execution_count": 41
        }
      ]
    },
    {
      "cell_type": "markdown",
      "metadata": {
        "id": "bynSnPaLK3rI"
      },
      "source": [
        "**Conclusion:**\n",
        "\n",
        "Maximum bookings are from Online TA (Travel Agent) which 47.30%.\n",
        "\n",
        "Bookings with Online TA and Offline TA/TO is almost 70% that means maximum hotel are booked with agents only.\n",
        "\n",
        "Direct bookings are 10.56% which shows that maximum people have tendacy of booking hotel prior to arrival."
      ]
    },
    {
      "cell_type": "markdown",
      "metadata": {
        "id": "0G4yz3pyMdM4"
      },
      "source": [
        "## **Column:** distribution_channel"
      ]
    },
    {
      "cell_type": "code",
      "metadata": {
        "colab": {
          "base_uri": "https://localhost:8080/"
        },
        "id": "RK4geuEaMcgB",
        "outputId": "3f9bf65d-e0aa-4b35-81e5-a97e472c81f9"
      },
      "source": [
        "round(df['distribution_channel'].value_counts(normalize=True) * 100, 2)"
      ],
      "execution_count": 42,
      "outputs": [
        {
          "output_type": "execute_result",
          "data": {
            "text/plain": [
              "TA/TO        82.00\n",
              "Direct       12.26\n",
              "Corporate     5.58\n",
              "GDS           0.16\n",
              "Undefined     0.00\n",
              "Name: distribution_channel, dtype: float64"
            ]
          },
          "metadata": {},
          "execution_count": 42
        }
      ]
    },
    {
      "cell_type": "code",
      "metadata": {
        "colab": {
          "base_uri": "https://localhost:8080/",
          "height": 0
        },
        "id": "iulndnYvvR8x",
        "outputId": "ba7c60ad-bf0a-4c34-fa2c-5520a05ad2eb"
      },
      "source": [
        "round(df['distribution_channel'].value_counts(normalize=True) * 100, 2).plot(kind='bar', figsize=(5,5))\n",
        "plt.title('distribution Channel for Hotel Bookings', fontsize=16)\n",
        "plt.ylabel('Percentage Bookings')"
      ],
      "execution_count": 43,
      "outputs": [
        {
          "output_type": "execute_result",
          "data": {
            "text/plain": [
              "Text(0, 0.5, 'Percentage Bookings')"
            ]
          },
          "metadata": {},
          "execution_count": 43
        },
        {
          "output_type": "display_data",
          "data": {
            "image/png": "[encoded data removed]",
            "text/plain": [
              "<Figure size 360x360 with 1 Axes>"
            ]
          },
          "metadata": {
            "needs_background": "light"
          }
        }
      ]
    },
    {
      "cell_type": "markdown",
      "metadata": {
        "id": "ryMKN8KTNl_7"
      },
      "source": [
        "**Conclusion:**\n",
        "\n",
        "Hotels prefers almost 82% of TA/TO as their Distribution Channel which justify with 70% bookings are through Online TA and Offline TA/TO."
      ]
    },
    {
      "cell_type": "markdown",
      "metadata": {
        "id": "ejn1u1PZOG6j"
      },
      "source": [
        "## **Column:** is_repeated_guest"
      ]
    },
    {
      "cell_type": "code",
      "metadata": {
        "colab": {
          "base_uri": "https://localhost:8080/"
        },
        "id": "xM14Ca6Zwcnl",
        "outputId": "90be4457-2ba2-455c-bee0-06f1e841dac1"
      },
      "source": [
        "categories_in_is_repeated_guest = df.is_repeated_guest.unique()\n",
        "print(categories_in_is_repeated_guest)"
      ],
      "execution_count": 44,
      "outputs": [
        {
          "output_type": "stream",
          "name": "stdout",
          "text": [
            "[0 1]\n"
          ]
        }
      ]
    },
    {
      "cell_type": "markdown",
      "metadata": {
        "id": "NKbG2lHmO7AE"
      },
      "source": [
        "0 : guest not repeated\n",
        "\n",
        "1 : guest repeated"
      ]
    },
    {
      "cell_type": "code",
      "metadata": {
        "id": "UvRYL_7DwSpq"
      },
      "source": [
        "# replace 0 with Not_repeated and 1 with Repeated\n",
        "df.is_repeated_guest = df.is_repeated_guest.replace(0,'Not_Repeated').replace(1, 'Repeated')"
      ],
      "execution_count": 45,
      "outputs": []
    },
    {
      "cell_type": "code",
      "metadata": {
        "colab": {
          "base_uri": "https://localhost:8080/",
          "height": 0
        },
        "id": "SaMZ-xgOwkM-",
        "outputId": "98f7cc5b-b628-4822-9360-f42dc6e5950a"
      },
      "source": [
        "df.groupby('is_repeated_guest').size().plot(kind='pie', fontsize=15, autopct='%.2f',  figsize=(6, 6))\n",
        "plt.ylabel('' , fontsize=16)\n",
        "plt.title('Guest Repeated OR Not', fontsize=16)"
      ],
      "execution_count": 46,
      "outputs": [
        {
          "output_type": "execute_result",
          "data": {
            "text/plain": [
              "Text(0.5, 1.0, 'Guest Repeated OR Not')"
            ]
          },
          "metadata": {},
          "execution_count": 46
        },
        {
          "output_type": "display_data",
          "data": {
            "image/png": "[encoded data removed]",
            "text/plain": [
              "<Figure size 432x432 with 1 Axes>"
            ]
          },
          "metadata": {}
        }
      ]
    },
    {
      "cell_type": "markdown",
      "metadata": {
        "id": "f3oEERptxz4G"
      },
      "source": [
        "**Conclusion:** Only 3.19% bookings are by repeated guest."
      ]
    },
    {
      "cell_type": "markdown",
      "metadata": {
        "id": "Mu1SJteVW2Fl"
      },
      "source": [
        "## **Column:** booking_changes"
      ]
    },
    {
      "cell_type": "code",
      "metadata": {
        "colab": {
          "base_uri": "https://localhost:8080/",
          "height": 0
        },
        "id": "UWv6fx0GyWQB",
        "outputId": "9d93e7c1-2a3e-42ec-c8b9-154284f4f412"
      },
      "source": [
        "round(df['booking_changes'].value_counts(normalize=True) * 100, 2)[0:5].plot(kind='bar', figsize=(5,5))\n",
        "plt.title('Booking Changes', fontsize=16)\n",
        "plt.ylabel('Percentage Bookings')\n",
        "plt.xlabel('No. of Changes Made')"
      ],
      "execution_count": 47,
      "outputs": [
        {
          "output_type": "execute_result",
          "data": {
            "text/plain": [
              "Text(0.5, 0, 'No. of Changes Made')"
            ]
          },
          "metadata": {},
          "execution_count": 47
        },
        {
          "output_type": "display_data",
          "data": {
            "image/png": "[encoded data removed]",
            "text/plain": [
              "<Figure size 360x360 with 1 Axes>"
            ]
          },
          "metadata": {
            "needs_background": "light"
          }
        }
      ]
    },
    {
      "cell_type": "markdown",
      "metadata": {
        "id": "BRsc5LxJW6n4"
      },
      "source": [
        "**Conclusion:**\n",
        "\n",
        "About 85% of bookings never changed."
      ]
    },
    {
      "cell_type": "markdown",
      "metadata": {
        "id": "zBIUvJHZXfUO"
      },
      "source": [
        "## **`Column:`** deposit_type"
      ]
    },
    {
      "cell_type": "code",
      "metadata": {
        "colab": {
          "base_uri": "https://localhost:8080/"
        },
        "id": "wHwRlPkYW6Vj",
        "outputId": "5210d8e2-9d18-4c34-8fc4-05b08af8ab4c"
      },
      "source": [
        "round(df['deposit_type'].value_counts(normalize=True) * 100, 2)"
      ],
      "execution_count": 48,
      "outputs": [
        {
          "output_type": "execute_result",
          "data": {
            "text/plain": [
              "No Deposit    87.63\n",
              "Non Refund    12.24\n",
              "Refundable     0.14\n",
              "Name: deposit_type, dtype: float64"
            ]
          },
          "metadata": {},
          "execution_count": 48
        }
      ]
    },
    {
      "cell_type": "code",
      "metadata": {
        "colab": {
          "base_uri": "https://localhost:8080/",
          "height": 0
        },
        "id": "nY_hizSDzprp",
        "outputId": "56b39cbb-2967-472a-83e0-49d168d1ad96"
      },
      "source": [
        "df.groupby('deposit_type').size().plot(kind='pie', fontsize=15, autopct='%.2f',  figsize=(6, 6))\n",
        "plt.ylabel('' , fontsize=16)\n",
        "plt.title('Types of Deposit', fontsize=16)"
      ],
      "execution_count": 49,
      "outputs": [
        {
          "output_type": "execute_result",
          "data": {
            "text/plain": [
              "Text(0.5, 1.0, 'Types of Deposit')"
            ]
          },
          "metadata": {},
          "execution_count": 49
        },
        {
          "output_type": "display_data",
          "data": {
            "image/png": "[encoded data removed]",
            "text/plain": [
              "<Figure size 432x432 with 1 Axes>"
            ]
          },
          "metadata": {}
        }
      ]
    },
    {
      "cell_type": "markdown",
      "metadata": {
        "id": "dPtATB9FX-JT"
      },
      "source": [
        "**Conclusion:**\n",
        "\n",
        "About 88% bookings are without any deposit. (Flexibility to cancel or change bookings without losing any money must be the main reason)\n",
        "\n",
        "About 12.22% bookings are non refundable.(Those bookings might be done because of offer of lower prices than bookings without any deposit)"
      ]
    },
    {
      "cell_type": "markdown",
      "metadata": {
        "id": "jQ5eQVJYZmkh"
      },
      "source": [
        "## **Column:** days_in_waiting_list"
      ]
    },
    {
      "cell_type": "code",
      "metadata": {
        "colab": {
          "base_uri": "https://localhost:8080/",
          "height": 0
        },
        "id": "4K3GnK6mU_5w",
        "outputId": "5f949e36-1ee0-4c39-d33d-baa5c8a86889"
      },
      "source": [
        "round(df['days_in_waiting_list'].value_counts(normalize=True) * 100, 2).sort_index().reset_index()"
      ],
      "execution_count": 50,
      "outputs": [
        {
          "output_type": "execute_result",
          "data": {
            "text/html": [
              "<div>\n",
              "<style scoped>\n",
              "    .dataframe tbody tr th:only-of-type {\n",
              "        vertical-align: middle;\n",
              "    }\n",
              "\n",
              "    .dataframe tbody tr th {\n",
              "        vertical-align: top;\n",
              "    }\n",
              "\n",
              "    .dataframe thead th {\n",
              "        text-align: right;\n",
              "    }\n",
              "</style>\n",
              "<table border=\"1\" class=\"dataframe\">\n",
              "  <thead>\n",
              "    <tr style=\"text-align: right;\">\n",
              "      <th></th>\n",
              "      <th>index</th>\n",
              "      <th>days_in_waiting_list</th>\n",
              "    </tr>\n",
              "  </thead>\n",
              "  <tbody>\n",
              "    <tr>\n",
              "      <th>0</th>\n",
              "      <td>0</td>\n",
              "      <td>96.90</td>\n",
              "    </tr>\n",
              "    <tr>\n",
              "      <th>1</th>\n",
              "      <td>1</td>\n",
              "      <td>0.01</td>\n",
              "    </tr>\n",
              "    <tr>\n",
              "      <th>2</th>\n",
              "      <td>2</td>\n",
              "      <td>0.00</td>\n",
              "    </tr>\n",
              "    <tr>\n",
              "      <th>3</th>\n",
              "      <td>3</td>\n",
              "      <td>0.05</td>\n",
              "    </tr>\n",
              "    <tr>\n",
              "      <th>4</th>\n",
              "      <td>4</td>\n",
              "      <td>0.02</td>\n",
              "    </tr>\n",
              "    <tr>\n",
              "      <th>...</th>\n",
              "      <td>...</td>\n",
              "      <td>...</td>\n",
              "    </tr>\n",
              "    <tr>\n",
              "      <th>122</th>\n",
              "      <td>236</td>\n",
              "      <td>0.03</td>\n",
              "    </tr>\n",
              "    <tr>\n",
              "      <th>123</th>\n",
              "      <td>259</td>\n",
              "      <td>0.01</td>\n",
              "    </tr>\n",
              "    <tr>\n",
              "      <th>124</th>\n",
              "      <td>330</td>\n",
              "      <td>0.01</td>\n",
              "    </tr>\n",
              "    <tr>\n",
              "      <th>125</th>\n",
              "      <td>379</td>\n",
              "      <td>0.01</td>\n",
              "    </tr>\n",
              "    <tr>\n",
              "      <th>126</th>\n",
              "      <td>391</td>\n",
              "      <td>0.04</td>\n",
              "    </tr>\n",
              "  </tbody>\n",
              "</table>\n",
              "<p>127 rows × 2 columns</p>\n",
              "</div>"
            ],
            "text/plain": [
              "     index  days_in_waiting_list\n",
              "0        0                 96.90\n",
              "1        1                  0.01\n",
              "2        2                  0.00\n",
              "3        3                  0.05\n",
              "4        4                  0.02\n",
              "..     ...                   ...\n",
              "122    236                  0.03\n",
              "123    259                  0.01\n",
              "124    330                  0.01\n",
              "125    379                  0.01\n",
              "126    391                  0.04\n",
              "\n",
              "[127 rows x 2 columns]"
            ]
          },
          "metadata": {},
          "execution_count": 50
        }
      ]
    },
    {
      "cell_type": "code",
      "metadata": {
        "colab": {
          "base_uri": "https://localhost:8080/",
          "height": 0
        },
        "id": "DWuMVu9M0HdH",
        "outputId": "6ce94118-e60c-4ebb-e754-d02aaa928775"
      },
      "source": [
        "round(df['days_in_waiting_list'].value_counts(normalize=True) * 100, 2).sort_index()[:10].plot(kind='bar', figsize=(10,5))\n",
        "plt.title('Waiting List Details', fontsize=16)\n",
        "plt.ylabel('Percentage Bookings')\n",
        "plt.xlabel('Days')"
      ],
      "execution_count": 51,
      "outputs": [
        {
          "output_type": "execute_result",
          "data": {
            "text/plain": [
              "Text(0.5, 0, 'Days')"
            ]
          },
          "metadata": {},
          "execution_count": 51
        },
        {
          "output_type": "display_data",
          "data": {
            "image/png": "[encoded data removed]",
            "text/plain": [
              "<Figure size 720x360 with 1 Axes>"
            ]
          },
          "metadata": {
            "needs_background": "light"
          }
        }
      ]
    },
    {
      "cell_type": "markdown",
      "metadata": {
        "id": "5inppRRgcFMY"
      },
      "source": [
        "**Conclusion:**\n",
        "\n",
        "Almost for 97% bookings there is no waiting list.(Which means that confirmed bookings are mostly prefered)"
      ]
    },
    {
      "cell_type": "markdown",
      "metadata": {
        "id": "nOEbtkZdpCyb"
      },
      "source": [
        "## **Column**: adr"
      ]
    },
    {
      "cell_type": "code",
      "metadata": {
        "colab": {
          "base_uri": "https://localhost:8080/"
        },
        "id": "NkFjNmKMc3ic",
        "outputId": "44706ef0-9447-456f-8be9-d7b5e3f0702e"
      },
      "source": [
        "df['adr'].describe()"
      ],
      "execution_count": 52,
      "outputs": [
        {
          "output_type": "execute_result",
          "data": {
            "text/plain": [
              "count    119210.000000\n",
              "mean        101.969092\n",
              "std          50.434007\n",
              "min          -6.380000\n",
              "25%          69.500000\n",
              "50%          94.950000\n",
              "75%         126.000000\n",
              "max        5400.000000\n",
              "Name: adr, dtype: float64"
            ]
          },
          "metadata": {},
          "execution_count": 52
        }
      ]
    },
    {
      "cell_type": "markdown",
      "metadata": {
        "id": "y_deVqvlqvbl"
      },
      "source": [
        "adr for some rows zero and even negative also and in some cases it is very low.\n",
        "\n",
        "adr can not be negative or zero.\n"
      ]
    },
    {
      "cell_type": "code",
      "metadata": {
        "id": "GAwvZ8Kescio"
      },
      "source": [
        "# replace all the adr values which are less than 50.0 with 50.0\n",
        "df.loc[df['adr'] < 50.0, 'adr'] = 50.0"
      ],
      "execution_count": 53,
      "outputs": []
    },
    {
      "cell_type": "code",
      "metadata": {
        "colab": {
          "base_uri": "https://localhost:8080/"
        },
        "id": "jSUZVkWytv4k",
        "outputId": "d54c81ef-298c-4bf2-d83b-238f8e71e009"
      },
      "source": [
        "# Check for mimnimum value\n",
        "df['adr'].describe()"
      ],
      "execution_count": 54,
      "outputs": [
        {
          "output_type": "execute_result",
          "data": {
            "text/plain": [
              "count    119210.000000\n",
              "mean        103.641293\n",
              "std          48.083129\n",
              "min          50.000000\n",
              "25%          69.500000\n",
              "50%          94.950000\n",
              "75%         126.000000\n",
              "max        5400.000000\n",
              "Name: adr, dtype: float64"
            ]
          },
          "metadata": {},
          "execution_count": 54
        }
      ]
    },
    {
      "cell_type": "markdown",
      "metadata": {
        "id": "XohuJX2yv2qW"
      },
      "source": [
        "Max value very much higher than 75% value, need to replace this outlier"
      ]
    },
    {
      "cell_type": "code",
      "metadata": {
        "colab": {
          "base_uri": "https://localhost:8080/"
        },
        "id": "y2-ZFRBSxUPQ",
        "outputId": "4f3fa845-77e0-496b-be22-c4af234253e7"
      },
      "source": [
        "second_max_adr = sorted(df['adr'], reverse=True)[1]\n",
        "print(second_max_adr)"
      ],
      "execution_count": 55,
      "outputs": [
        {
          "output_type": "stream",
          "name": "stdout",
          "text": [
            "510.0\n"
          ]
        }
      ]
    },
    {
      "cell_type": "code",
      "metadata": {
        "id": "181U8_RAv2Gu"
      },
      "source": [
        "# replacing max value by max of remaining rows in that column\n",
        "df.loc[df['adr'] == df['adr'].max(), 'adr'] = second_max_adr"
      ],
      "execution_count": 56,
      "outputs": []
    },
    {
      "cell_type": "code",
      "metadata": {
        "colab": {
          "base_uri": "https://localhost:8080/"
        },
        "id": "17Y1byvwyCOz",
        "outputId": "8960c025-2766-40d4-cbe8-5cdb84b93d3c"
      },
      "source": [
        "# Check for removed outliers\n",
        "df['adr'].describe()"
      ],
      "execution_count": 57,
      "outputs": [
        {
          "output_type": "execute_result",
          "data": {
            "text/plain": [
              "count    119210.000000\n",
              "mean        103.600273\n",
              "std          45.585720\n",
              "min          50.000000\n",
              "25%          69.500000\n",
              "50%          94.950000\n",
              "75%         126.000000\n",
              "max         510.000000\n",
              "Name: adr, dtype: float64"
            ]
          },
          "metadata": {},
          "execution_count": 57
        }
      ]
    },
    {
      "cell_type": "markdown",
      "metadata": {
        "id": "QxZTnG7f1z1z"
      },
      "source": [
        "## **Column:** required_car_parking_spaces"
      ]
    },
    {
      "cell_type": "code",
      "metadata": {
        "colab": {
          "base_uri": "https://localhost:8080/",
          "height": 0
        },
        "id": "bXkIp7PruQd4",
        "outputId": "174e360f-deb4-4183-bc35-c7be00621929"
      },
      "source": [
        "round(df['required_car_parking_spaces'].value_counts(normalize=True) * 100, 2).reset_index()"
      ],
      "execution_count": 58,
      "outputs": [
        {
          "output_type": "execute_result",
          "data": {
            "text/html": [
              "<div>\n",
              "<style scoped>\n",
              "    .dataframe tbody tr th:only-of-type {\n",
              "        vertical-align: middle;\n",
              "    }\n",
              "\n",
              "    .dataframe tbody tr th {\n",
              "        vertical-align: top;\n",
              "    }\n",
              "\n",
              "    .dataframe thead th {\n",
              "        text-align: right;\n",
              "    }\n",
              "</style>\n",
              "<table border=\"1\" class=\"dataframe\">\n",
              "  <thead>\n",
              "    <tr style=\"text-align: right;\">\n",
              "      <th></th>\n",
              "      <th>index</th>\n",
              "      <th>required_car_parking_spaces</th>\n",
              "    </tr>\n",
              "  </thead>\n",
              "  <tbody>\n",
              "    <tr>\n",
              "      <th>0</th>\n",
              "      <td>0</td>\n",
              "      <td>93.78</td>\n",
              "    </tr>\n",
              "    <tr>\n",
              "      <th>1</th>\n",
              "      <td>1</td>\n",
              "      <td>6.19</td>\n",
              "    </tr>\n",
              "    <tr>\n",
              "      <th>2</th>\n",
              "      <td>2</td>\n",
              "      <td>0.02</td>\n",
              "    </tr>\n",
              "    <tr>\n",
              "      <th>3</th>\n",
              "      <td>3</td>\n",
              "      <td>0.00</td>\n",
              "    </tr>\n",
              "    <tr>\n",
              "      <th>4</th>\n",
              "      <td>8</td>\n",
              "      <td>0.00</td>\n",
              "    </tr>\n",
              "  </tbody>\n",
              "</table>\n",
              "</div>"
            ],
            "text/plain": [
              "   index  required_car_parking_spaces\n",
              "0      0                        93.78\n",
              "1      1                         6.19\n",
              "2      2                         0.02\n",
              "3      3                         0.00\n",
              "4      8                         0.00"
            ]
          },
          "metadata": {},
          "execution_count": 58
        }
      ]
    },
    {
      "cell_type": "markdown",
      "metadata": {
        "id": "WXRSiQGQi6Cw"
      },
      "source": [
        "**Conclusion:**\n",
        "\n",
        "*   Almost 94% of bookings there is no requirement for car parking spaces."
      ]
    },
    {
      "cell_type": "markdown",
      "metadata": {
        "id": "QYKxO-GHu4Sg"
      },
      "source": [
        "## **Column:** total_of_special_requests"
      ]
    },
    {
      "cell_type": "code",
      "metadata": {
        "colab": {
          "base_uri": "https://localhost:8080/",
          "height": 0
        },
        "id": "nrCnm0aduQbS",
        "outputId": "894e3d4c-57d9-48cb-e698-61322cedb4ff"
      },
      "source": [
        "round(df['total_of_special_requests'].value_counts(normalize=True) * 100, 2).reset_index()"
      ],
      "execution_count": 59,
      "outputs": [
        {
          "output_type": "execute_result",
          "data": {
            "text/html": [
              "<div>\n",
              "<style scoped>\n",
              "    .dataframe tbody tr th:only-of-type {\n",
              "        vertical-align: middle;\n",
              "    }\n",
              "\n",
              "    .dataframe tbody tr th {\n",
              "        vertical-align: top;\n",
              "    }\n",
              "\n",
              "    .dataframe thead th {\n",
              "        text-align: right;\n",
              "    }\n",
              "</style>\n",
              "<table border=\"1\" class=\"dataframe\">\n",
              "  <thead>\n",
              "    <tr style=\"text-align: right;\">\n",
              "      <th></th>\n",
              "      <th>index</th>\n",
              "      <th>total_of_special_requests</th>\n",
              "    </tr>\n",
              "  </thead>\n",
              "  <tbody>\n",
              "    <tr>\n",
              "      <th>0</th>\n",
              "      <td>0</td>\n",
              "      <td>58.89</td>\n",
              "    </tr>\n",
              "    <tr>\n",
              "      <th>1</th>\n",
              "      <td>1</td>\n",
              "      <td>27.84</td>\n",
              "    </tr>\n",
              "    <tr>\n",
              "      <th>2</th>\n",
              "      <td>2</td>\n",
              "      <td>10.86</td>\n",
              "    </tr>\n",
              "    <tr>\n",
              "      <th>3</th>\n",
              "      <td>3</td>\n",
              "      <td>2.09</td>\n",
              "    </tr>\n",
              "    <tr>\n",
              "      <th>4</th>\n",
              "      <td>4</td>\n",
              "      <td>0.29</td>\n",
              "    </tr>\n",
              "    <tr>\n",
              "      <th>5</th>\n",
              "      <td>5</td>\n",
              "      <td>0.03</td>\n",
              "    </tr>\n",
              "  </tbody>\n",
              "</table>\n",
              "</div>"
            ],
            "text/plain": [
              "   index  total_of_special_requests\n",
              "0      0                      58.89\n",
              "1      1                      27.84\n",
              "2      2                      10.86\n",
              "3      3                       2.09\n",
              "4      4                       0.29\n",
              "5      5                       0.03"
            ]
          },
          "metadata": {},
          "execution_count": 59
        }
      ]
    },
    {
      "cell_type": "code",
      "metadata": {
        "colab": {
          "base_uri": "https://localhost:8080/",
          "height": 0
        },
        "id": "Nb9S0TPCkRs5",
        "outputId": "4da12327-836f-4575-a515-aaa87b272a42"
      },
      "source": [
        "df.groupby('total_of_special_requests').size()[:4].plot(kind='pie', labels=[\"No special request\", 1, 2, 3], fontsize=15, autopct='%.2f',  figsize=(6, 6))\n",
        "plt.ylabel('Percentage' , fontsize=16)\n",
        "plt.title('Total Special Request', fontsize=16)"
      ],
      "execution_count": 60,
      "outputs": [
        {
          "output_type": "execute_result",
          "data": {
            "text/plain": [
              "Text(0.5, 1.0, 'Total Special Request')"
            ]
          },
          "metadata": {},
          "execution_count": 60
        },
        {
          "output_type": "display_data",
          "data": {
            "image/png": "[encoded data removed]",
            "text/plain": [
              "<Figure size 432x432 with 1 Axes>"
            ]
          },
          "metadata": {}
        }
      ]
    },
    {
      "cell_type": "markdown",
      "metadata": {
        "id": "mkcG1Krfjmwc"
      },
      "source": [
        "**Conclusion:**\n",
        "\n",
        "*   About 59% of bookings there are no special requests.\n",
        "*   27.92% of bookings there is one special request.\n",
        "\n"
      ]
    },
    {
      "cell_type": "markdown",
      "metadata": {
        "id": "cyys5rfAuu7t"
      },
      "source": [
        "## **Column:** reservation_status"
      ]
    },
    {
      "cell_type": "code",
      "metadata": {
        "colab": {
          "base_uri": "https://localhost:8080/",
          "height": 0
        },
        "id": "lEbQtgZQlr4o",
        "outputId": "90b16df2-cb3d-4ba6-8bf9-a4618db5a0e8"
      },
      "source": [
        "df.groupby('reservation_status').size().plot(kind='pie', fontsize=15, autopct='%.2f',  figsize=(6, 6))\n",
        "plt.ylabel('Percentage' , fontsize=16)\n",
        "plt.title('Total Special Request', fontsize=16)"
      ],
      "execution_count": 61,
      "outputs": [
        {
          "output_type": "execute_result",
          "data": {
            "text/plain": [
              "Text(0.5, 1.0, 'Total Special Request')"
            ]
          },
          "metadata": {},
          "execution_count": 61
        },
        {
          "output_type": "display_data",
          "data": {
            "image/png": "[encoded data removed]",
            "text/plain": [
              "<Figure size 432x432 with 1 Axes>"
            ]
          },
          "metadata": {}
        }
      ]
    },
    {
      "cell_type": "markdown",
      "metadata": {
        "id": "wFbZI-YZ4hZN"
      },
      "source": [
        "# **STEP 4: Trying to get some conclusions from data, correlation, trends and making sense in doing so**"
      ]
    },
    {
      "cell_type": "markdown",
      "metadata": {
        "id": "n1wVh6re5Ozu"
      },
      "source": [
        "Till now some conclusion were made with data within each column only.\n",
        "\n",
        "Now will get conclusions based on correlation and trends considering multiple columns. "
      ]
    },
    {
      "cell_type": "code",
      "metadata": {
        "colab": {
          "base_uri": "https://localhost:8080/",
          "height": 376
        },
        "id": "U7e-xZOD4hEC",
        "outputId": "4d5fd4a5-a53c-4e46-ab8e-9d0d8a316778"
      },
      "source": [
        "# canceled and not canceled bookings for each type of hotel\n",
        "plt.rcParams['figure.figsize']= (5,5)\n",
        "sns.countplot(data = df, x = 'is_canceled', hue = 'hotel')\n",
        "plt.title('Booking Cancelation for Hotel type',fontsize=20)\n",
        "plt.xlabel('Booking Cancelation status', fontsize=13)\n",
        "plt.ylabel('No. of Bookings', fontsize=13)"
      ],
      "execution_count": 62,
      "outputs": [
        {
          "output_type": "execute_result",
          "data": {
            "text/plain": [
              "Text(0, 0.5, 'No. of Bookings')"
            ]
          },
          "metadata": {},
          "execution_count": 62
        },
        {
          "output_type": "display_data",
          "data": {
            "image/png": "[encoded data removed]",
            "text/plain": [
              "<Figure size 360x360 with 1 Axes>"
            ]
          },
          "metadata": {
            "needs_background": "light"
          }
        }
      ]
    },
    {
      "cell_type": "markdown",
      "metadata": {
        "id": "eE37w8JEKtrh"
      },
      "source": [
        "**Conclusion:**\n",
        "\n",
        "*   Cancelation in resort type hotel is greater than city type hotel as compared to their bookings.\n",
        "\n"
      ]
    },
    {
      "cell_type": "code",
      "metadata": {
        "colab": {
          "base_uri": "https://localhost:8080/",
          "height": 377
        },
        "id": "0EoIepUA4hA8",
        "outputId": "2419051b-b09b-459f-ec1b-fc235378ff47"
      },
      "source": [
        "# year wise bookings for each type of hotel\n",
        "plt.rcParams['figure.figsize']= (5,5)\n",
        "sns.countplot(data = df, x = 'arrival_date_year', hue = 'hotel')\n",
        "plt.title('Year Wise Bookings for Each Hotel Type',fontsize=20)\n",
        "plt.xlabel('Arrival Year', fontsize=15)\n",
        "plt.ylabel('No. of Bookings', fontsize=15)"
      ],
      "execution_count": 63,
      "outputs": [
        {
          "output_type": "execute_result",
          "data": {
            "text/plain": [
              "Text(0, 0.5, 'No. of Bookings')"
            ]
          },
          "metadata": {},
          "execution_count": 63
        },
        {
          "output_type": "display_data",
          "data": {
            "image/png": "[encoded data removed]",
            "text/plain": [
              "<Figure size 360x360 with 1 Axes>"
            ]
          },
          "metadata": {
            "needs_background": "light"
          }
        }
      ]
    },
    {
      "cell_type": "markdown",
      "metadata": {
        "id": "aCIYa6-vL6N_"
      },
      "source": [
        "**Conclusion:**\n",
        "\n",
        "*   For both type hotel there is sudden increase in bookings for year 2016 compared to year 2015 and then significant fall in bookings for year 2017.\n",
        "\n"
      ]
    },
    {
      "cell_type": "code",
      "metadata": {
        "colab": {
          "base_uri": "https://localhost:8080/",
          "height": 377
        },
        "id": "ZyeISU5k4g90",
        "outputId": "95666428-7f2e-406b-d1ac-248d21380080"
      },
      "source": [
        "# Month wise bookings for each type of hotel\n",
        "plt.rcParams['figure.figsize']= (20,5)\n",
        "sns.countplot(data = df, x = 'arrival_date_month', hue = 'hotel', order= [ 'January', 'February', 'March', 'April', 'May', 'June', 'July','August', 'September', 'October', 'November', 'December'])\n",
        "plt.title('Month Wise Bookings for Each Hotel Type',fontsize=20)\n",
        "plt.xlabel('Arrival Month', fontsize=15)\n",
        "plt.ylabel('No. of Bookings', fontsize=15)"
      ],
      "execution_count": 64,
      "outputs": [
        {
          "output_type": "execute_result",
          "data": {
            "text/plain": [
              "Text(0, 0.5, 'No. of Bookings')"
            ]
          },
          "metadata": {},
          "execution_count": 64
        },
        {
          "output_type": "display_data",
          "data": {
            "image/png": "[encoded data removed]",
            "text/plain": [
              "<Figure size 1440x360 with 1 Axes>"
            ]
          },
          "metadata": {
            "needs_background": "light"
          }
        }
      ]
    },
    {
      "cell_type": "markdown",
      "metadata": {
        "id": "G17F1EvQJZOW"
      },
      "source": [
        "**Conclusion:**\n",
        "\n",
        "*   Highest number of bookings for both type of hotel is in August.\n",
        "*   Lowest number of bookings for both type of hotel is in January.\n",
        "\n"
      ]
    },
    {
      "cell_type": "code",
      "metadata": {
        "colab": {
          "base_uri": "https://localhost:8080/",
          "height": 377
        },
        "id": "2y1Az93UCplw",
        "outputId": "d06c78d4-8be2-4c75-d089-28e7e7a123fd"
      },
      "source": [
        "# Day wise bookings for each type of hotel\n",
        "plt.rcParams['figure.figsize']= (20,5)\n",
        "sns.countplot(data = df, x = 'required_car_parking_spaces', hue = 'hotel')\n",
        "plt.title('Car Parking Space Requirement',fontsize=20)\n",
        "plt.xlabel('No. of parking space', fontsize=15)\n",
        "plt.ylabel('No. of Bookings', fontsize=15)"
      ],
      "execution_count": 66,
      "outputs": [
        {
          "output_type": "execute_result",
          "data": {
            "text/plain": [
              "Text(0, 0.5, 'No. of Bookings')"
            ]
          },
          "metadata": {},
          "execution_count": 66
        },
        {
          "output_type": "display_data",
          "data": {
            "image/png": "[encoded data removed]",
            "text/plain": [
              "<Figure size 1440x360 with 1 Axes>"
            ]
          },
          "metadata": {
            "needs_background": "light"
          }
        }
      ]
    },
    {
      "cell_type": "markdown",
      "metadata": {
        "id": "lNZDhFs7GJ-i"
      },
      "source": [
        "**Conclusion:** Car parking space requirement for resort type hotel is greater than city hotel.(It may be because of location of resort type hotel is usually far from city)"
      ]
    },
    {
      "cell_type": "code",
      "metadata": {
        "colab": {
          "base_uri": "https://localhost:8080/",
          "height": 377
        },
        "id": "Moi6rfplEAD5",
        "outputId": "25a56bdd-5e78-440b-c80c-6ddc65214735"
      },
      "source": [
        "# Day wise bookings for each type of hotel\n",
        "plt.rcParams['figure.figsize']= (20,5)\n",
        "sns.countplot(data = df, x = 'total_of_special_requests', hue = 'hotel')\n",
        "plt.title('Special requests for Each Hotel Type',fontsize=20)\n",
        "plt.xlabel('No. of special request', fontsize=15)\n",
        "plt.ylabel('No. of Bookings', fontsize=15)"
      ],
      "execution_count": 67,
      "outputs": [
        {
          "output_type": "execute_result",
          "data": {
            "text/plain": [
              "Text(0, 0.5, 'No. of Bookings')"
            ]
          },
          "metadata": {},
          "execution_count": 67
        },
        {
          "output_type": "display_data",
          "data": {
            "image/png": "[encoded data removed]",
            "text/plain": [
              "<Figure size 1440x360 with 1 Axes>"
            ]
          },
          "metadata": {
            "needs_background": "light"
          }
        }
      ]
    },
    {
      "cell_type": "markdown",
      "metadata": {
        "id": "wz8WAU-yH_Dw"
      },
      "source": [
        "**Conclusion:** Special requests for both type of hotel is almost same as compared to their number of bookings."
      ]
    },
    {
      "cell_type": "code",
      "metadata": {
        "id": "7mqCcO3T32l5"
      },
      "source": [
        "df['total_guests'] = df['adults'] + df['children']"
      ],
      "execution_count": 78,
      "outputs": []
    },
    {
      "cell_type": "code",
      "metadata": {
        "id": "hS8ETPB941XO"
      },
      "source": [
        "df['per_head_adr'] = df['adr']/df['total_guests']"
      ],
      "execution_count": 82,
      "outputs": []
    },
    {
      "cell_type": "code",
      "metadata": {
        "colab": {
          "base_uri": "https://localhost:8080/",
          "height": 223
        },
        "id": "S0FLKdy44Iob",
        "outputId": "77cb4021-8ca2-4aa2-d9c4-f7413e353995"
      },
      "source": [
        "df.head()"
      ],
      "execution_count": 79,
      "outputs": [
        {
          "output_type": "execute_result",
          "data": {
            "text/html": [
              "<div>\n",
              "<style scoped>\n",
              "    .dataframe tbody tr th:only-of-type {\n",
              "        vertical-align: middle;\n",
              "    }\n",
              "\n",
              "    .dataframe tbody tr th {\n",
              "        vertical-align: top;\n",
              "    }\n",
              "\n",
              "    .dataframe thead th {\n",
              "        text-align: right;\n",
              "    }\n",
              "</style>\n",
              "<table border=\"1\" class=\"dataframe\">\n",
              "  <thead>\n",
              "    <tr style=\"text-align: right;\">\n",
              "      <th></th>\n",
              "      <th>hotel</th>\n",
              "      <th>is_canceled</th>\n",
              "      <th>lead_time</th>\n",
              "      <th>arrival_date_year</th>\n",
              "      <th>arrival_date_month</th>\n",
              "      <th>arrival_date_week_number</th>\n",
              "      <th>arrival_date_day_of_month</th>\n",
              "      <th>stays_in_weekend_nights</th>\n",
              "      <th>stays_in_week_nights</th>\n",
              "      <th>adults</th>\n",
              "      <th>children</th>\n",
              "      <th>babies</th>\n",
              "      <th>meal</th>\n",
              "      <th>country</th>\n",
              "      <th>market_segment</th>\n",
              "      <th>distribution_channel</th>\n",
              "      <th>is_repeated_guest</th>\n",
              "      <th>previous_cancellations</th>\n",
              "      <th>previous_bookings_not_canceled</th>\n",
              "      <th>reserved_room_type</th>\n",
              "      <th>assigned_room_type</th>\n",
              "      <th>booking_changes</th>\n",
              "      <th>deposit_type</th>\n",
              "      <th>agent</th>\n",
              "      <th>company</th>\n",
              "      <th>days_in_waiting_list</th>\n",
              "      <th>customer_type</th>\n",
              "      <th>adr</th>\n",
              "      <th>required_car_parking_spaces</th>\n",
              "      <th>total_of_special_requests</th>\n",
              "      <th>reservation_status</th>\n",
              "      <th>reservation_status_date</th>\n",
              "      <th>total_guests</th>\n",
              "    </tr>\n",
              "  </thead>\n",
              "  <tbody>\n",
              "    <tr>\n",
              "      <th>0</th>\n",
              "      <td>Resort_Hotel</td>\n",
              "      <td>Not_Canceled</td>\n",
              "      <td>342</td>\n",
              "      <td>2015</td>\n",
              "      <td>July</td>\n",
              "      <td>27</td>\n",
              "      <td>1</td>\n",
              "      <td>0</td>\n",
              "      <td>0</td>\n",
              "      <td>2</td>\n",
              "      <td>0</td>\n",
              "      <td>0</td>\n",
              "      <td>BB</td>\n",
              "      <td>PRT</td>\n",
              "      <td>Direct</td>\n",
              "      <td>Direct</td>\n",
              "      <td>Not_Repeated</td>\n",
              "      <td>0</td>\n",
              "      <td>0</td>\n",
              "      <td>C</td>\n",
              "      <td>C</td>\n",
              "      <td>3</td>\n",
              "      <td>No Deposit</td>\n",
              "      <td>0</td>\n",
              "      <td>0</td>\n",
              "      <td>0</td>\n",
              "      <td>Transient</td>\n",
              "      <td>50.0</td>\n",
              "      <td>0</td>\n",
              "      <td>0</td>\n",
              "      <td>Check-Out</td>\n",
              "      <td>2015-07-01</td>\n",
              "      <td>2</td>\n",
              "    </tr>\n",
              "    <tr>\n",
              "      <th>1</th>\n",
              "      <td>Resort_Hotel</td>\n",
              "      <td>Not_Canceled</td>\n",
              "      <td>737</td>\n",
              "      <td>2015</td>\n",
              "      <td>July</td>\n",
              "      <td>27</td>\n",
              "      <td>1</td>\n",
              "      <td>0</td>\n",
              "      <td>0</td>\n",
              "      <td>2</td>\n",
              "      <td>0</td>\n",
              "      <td>0</td>\n",
              "      <td>BB</td>\n",
              "      <td>PRT</td>\n",
              "      <td>Direct</td>\n",
              "      <td>Direct</td>\n",
              "      <td>Not_Repeated</td>\n",
              "      <td>0</td>\n",
              "      <td>0</td>\n",
              "      <td>C</td>\n",
              "      <td>C</td>\n",
              "      <td>4</td>\n",
              "      <td>No Deposit</td>\n",
              "      <td>0</td>\n",
              "      <td>0</td>\n",
              "      <td>0</td>\n",
              "      <td>Transient</td>\n",
              "      <td>50.0</td>\n",
              "      <td>0</td>\n",
              "      <td>0</td>\n",
              "      <td>Check-Out</td>\n",
              "      <td>2015-07-01</td>\n",
              "      <td>2</td>\n",
              "    </tr>\n",
              "    <tr>\n",
              "      <th>2</th>\n",
              "      <td>Resort_Hotel</td>\n",
              "      <td>Not_Canceled</td>\n",
              "      <td>7</td>\n",
              "      <td>2015</td>\n",
              "      <td>July</td>\n",
              "      <td>27</td>\n",
              "      <td>1</td>\n",
              "      <td>0</td>\n",
              "      <td>1</td>\n",
              "      <td>1</td>\n",
              "      <td>0</td>\n",
              "      <td>0</td>\n",
              "      <td>BB</td>\n",
              "      <td>GBR</td>\n",
              "      <td>Direct</td>\n",
              "      <td>Direct</td>\n",
              "      <td>Not_Repeated</td>\n",
              "      <td>0</td>\n",
              "      <td>0</td>\n",
              "      <td>A</td>\n",
              "      <td>C</td>\n",
              "      <td>0</td>\n",
              "      <td>No Deposit</td>\n",
              "      <td>0</td>\n",
              "      <td>0</td>\n",
              "      <td>0</td>\n",
              "      <td>Transient</td>\n",
              "      <td>75.0</td>\n",
              "      <td>0</td>\n",
              "      <td>0</td>\n",
              "      <td>Check-Out</td>\n",
              "      <td>2015-07-02</td>\n",
              "      <td>1</td>\n",
              "    </tr>\n",
              "    <tr>\n",
              "      <th>3</th>\n",
              "      <td>Resort_Hotel</td>\n",
              "      <td>Not_Canceled</td>\n",
              "      <td>13</td>\n",
              "      <td>2015</td>\n",
              "      <td>July</td>\n",
              "      <td>27</td>\n",
              "      <td>1</td>\n",
              "      <td>0</td>\n",
              "      <td>1</td>\n",
              "      <td>1</td>\n",
              "      <td>0</td>\n",
              "      <td>0</td>\n",
              "      <td>BB</td>\n",
              "      <td>GBR</td>\n",
              "      <td>Corporate</td>\n",
              "      <td>Corporate</td>\n",
              "      <td>Not_Repeated</td>\n",
              "      <td>0</td>\n",
              "      <td>0</td>\n",
              "      <td>A</td>\n",
              "      <td>A</td>\n",
              "      <td>0</td>\n",
              "      <td>No Deposit</td>\n",
              "      <td>304</td>\n",
              "      <td>0</td>\n",
              "      <td>0</td>\n",
              "      <td>Transient</td>\n",
              "      <td>75.0</td>\n",
              "      <td>0</td>\n",
              "      <td>0</td>\n",
              "      <td>Check-Out</td>\n",
              "      <td>2015-07-02</td>\n",
              "      <td>1</td>\n",
              "    </tr>\n",
              "    <tr>\n",
              "      <th>4</th>\n",
              "      <td>Resort_Hotel</td>\n",
              "      <td>Not_Canceled</td>\n",
              "      <td>14</td>\n",
              "      <td>2015</td>\n",
              "      <td>July</td>\n",
              "      <td>27</td>\n",
              "      <td>1</td>\n",
              "      <td>0</td>\n",
              "      <td>2</td>\n",
              "      <td>2</td>\n",
              "      <td>0</td>\n",
              "      <td>0</td>\n",
              "      <td>BB</td>\n",
              "      <td>GBR</td>\n",
              "      <td>Online TA</td>\n",
              "      <td>TA/TO</td>\n",
              "      <td>Not_Repeated</td>\n",
              "      <td>0</td>\n",
              "      <td>0</td>\n",
              "      <td>A</td>\n",
              "      <td>A</td>\n",
              "      <td>0</td>\n",
              "      <td>No Deposit</td>\n",
              "      <td>240</td>\n",
              "      <td>0</td>\n",
              "      <td>0</td>\n",
              "      <td>Transient</td>\n",
              "      <td>98.0</td>\n",
              "      <td>0</td>\n",
              "      <td>1</td>\n",
              "      <td>Check-Out</td>\n",
              "      <td>2015-07-03</td>\n",
              "      <td>2</td>\n",
              "    </tr>\n",
              "  </tbody>\n",
              "</table>\n",
              "</div>"
            ],
            "text/plain": [
              "          hotel   is_canceled  ...  reservation_status_date  total_guests\n",
              "0  Resort_Hotel  Not_Canceled  ...               2015-07-01             2\n",
              "1  Resort_Hotel  Not_Canceled  ...               2015-07-01             2\n",
              "2  Resort_Hotel  Not_Canceled  ...               2015-07-02             1\n",
              "3  Resort_Hotel  Not_Canceled  ...               2015-07-02             1\n",
              "4  Resort_Hotel  Not_Canceled  ...               2015-07-03             2\n",
              "\n",
              "[5 rows x 33 columns]"
            ]
          },
          "metadata": {},
          "execution_count": 79
        }
      ]
    },
    {
      "cell_type": "code",
      "metadata": {
        "colab": {
          "base_uri": "https://localhost:8080/"
        },
        "id": "GH9bp5_sNXti",
        "outputId": "61b3c48e-09dd-4e78-820b-99d06a72cd46"
      },
      "source": [
        "df.groupby(df['arrival_date_month'])['adr'].mean()"
      ],
      "execution_count": 71,
      "outputs": [
        {
          "output_type": "execute_result",
          "data": {
            "text/plain": [
              "arrival_date_month\n",
              "April        101.488423\n",
              "August       140.943706\n",
              "December      84.576896\n",
              "February      76.581443\n",
              "January       73.931706\n",
              "July         127.671319\n",
              "June         117.364272\n",
              "March         82.848455\n",
              "May          109.846543\n",
              "November      77.717475\n",
              "October       89.942202\n",
              "September    106.402231\n",
              "Name: adr, dtype: float64"
            ]
          },
          "metadata": {},
          "execution_count": 71
        }
      ]
    },
    {
      "cell_type": "code",
      "metadata": {
        "id": "t1bplehpH-go"
      },
      "source": [
        "plt.rcParams['figure.figsize']= (20,5)\n",
        "sns.countplot(data = pd.DataFrame(df.groupby(df['arrival_date_month'])['adr'].mean()), x = 'arrival_date_month', hue = 'adr')\n",
        "plt.title('Special requests for Each Hotel Type',fontsize=20)\n",
        "plt.xlabel('No. of special request', fontsize=15)\n",
        "plt.ylabel('No. of Bookings', fontsize=15)"
      ],
      "execution_count": null,
      "outputs": []
    },
    {
      "cell_type": "code",
      "metadata": {
        "colab": {
          "base_uri": "https://localhost:8080/",
          "height": 396
        },
        "id": "sQH1DVZbccJP",
        "outputId": "d19335b2-5cea-4f9c-a1b4-bdc521326fb0"
      },
      "source": [
        "df.groupby(df['arrival_date_month'])['adr'].mean().plot(kind='bar')"
      ],
      "execution_count": 75,
      "outputs": [
        {
          "output_type": "execute_result",
          "data": {
            "text/plain": [
              "<matplotlib.axes._subplots.AxesSubplot at 0x7f3f8f41e790>"
            ]
          },
          "metadata": {},
          "execution_count": 75
        },
        {
          "output_type": "display_data",
          "data": {
            "image/png": "[encoded data removed]",
            "text/plain": [
              "<Figure size 1440x360 with 1 Axes>"
            ]
          },
          "metadata": {
            "needs_background": "light"
          }
        }
      ]
    },
    {
      "cell_type": "code",
      "metadata": {
        "colab": {
          "base_uri": "https://localhost:8080/",
          "height": 354
        },
        "id": "dzi2DNA1dKpE",
        "outputId": "77914ae0-0c1b-4265-d833-47596dbc7a97"
      },
      "source": [
        "df.groupby(df['total_guests'])['adr'].mean().plot(kind='bar')"
      ],
      "execution_count": 80,
      "outputs": [
        {
          "output_type": "execute_result",
          "data": {
            "text/plain": [
              "<matplotlib.axes._subplots.AxesSubplot at 0x7f3f8f299810>"
            ]
          },
          "metadata": {},
          "execution_count": 80
        },
        {
          "output_type": "display_data",
          "data": {
            "image/png": "[encoded data removed]",
            "text/plain": [
              "<Figure size 1440x360 with 1 Axes>"
            ]
          },
          "metadata": {
            "needs_background": "light"
          }
        }
      ]
    },
    {
      "cell_type": "code",
      "metadata": {
        "colab": {
          "base_uri": "https://localhost:8080/"
        },
        "id": "vnXEQdzY4f0w",
        "outputId": "ecd0e2a5-d9d9-46d1-94d4-424bda710ed4"
      },
      "source": [
        "df.groupby(df['total_guests'])['adr'].mean()"
      ],
      "execution_count": 81,
      "outputs": [
        {
          "output_type": "execute_result",
          "data": {
            "text/plain": [
              "total_guests\n",
              "1      85.642566\n",
              "2      99.280644\n",
              "3     146.892425\n",
              "4     188.094338\n",
              "5     227.798173\n",
              "6      50.000000\n",
              "10     50.000000\n",
              "12    133.160000\n",
              "20     50.000000\n",
              "26     50.000000\n",
              "27     50.000000\n",
              "40     50.000000\n",
              "50     50.000000\n",
              "55     50.000000\n",
              "Name: adr, dtype: float64"
            ]
          },
          "metadata": {},
          "execution_count": 81
        }
      ]
    },
    {
      "cell_type": "code",
      "metadata": {
        "id": "34KHkhqq4mBP"
      },
      "source": [
        ""
      ],
      "execution_count": null,
      "outputs": []
    }
  ]
}