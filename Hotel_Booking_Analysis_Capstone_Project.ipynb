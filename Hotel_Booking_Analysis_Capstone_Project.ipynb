{
  "nbformat": 4,
  "nbformat_minor": 0,
  "metadata": {
    "kernelspec": {
      "display_name": "Python 3",
      "language": "python",
      "name": "python3"
    },
    "language_info": {
      "codemirror_mode": {
        "name": "ipython",
        "version": 3
      },
      "file_extension": ".py",
      "mimetype": "text/x-python",
      "name": "python",
      "nbconvert_exporter": "python",
      "pygments_lexer": "ipython3",
      "version": "3.6.6"
    },
    "colab": {
      "name": "Hotel Booking Analysis - Capstone Project.ipynb",
      "provenance": [],
      "collapsed_sections": [],
      "include_colab_link": true
    }
  },
  "cells": [
    {
      "cell_type": "markdown",
      "metadata": {
        "id": "view-in-github",
        "colab_type": "text"
      },
      "source": [
        "<a href=\"https://colab.research.google.com/github/Amolrakhunde/Hotel-Booking-Analysis/blob/main/Hotel_Booking_Analysis_Capstone_Project.ipynb\" target=\"_parent\"><img src=\"https://colab.research.google.com/assets/colab-badge.svg\" alt=\"Open In Colab\"/></a>"
      ]
    },
    {
      "cell_type": "markdown",
      "metadata": {
        "id": "Y06xIdG26kRF"
      },
      "source": [
        "## <b> Have you ever wondered when the best time of year to book a hotel room is? Or the optimal length of stay in order to get the best daily rate? What if you wanted to predict whether or not a hotel was likely to receive a disproportionately high number of special requests? This hotel booking dataset can help you explore those questions!\n",
        "\n",
        "## <b>This data set contains booking information for a city hotel and a resort hotel, and includes information such as when the booking was made, length of stay, the number of adults, children, and/or babies, and the number of available parking spaces, among other things. All personally identifying information has been removed from the data. </b>\n",
        "\n",
        "## <b> Explore and analyze the data to discover important factors that govern the bookings. </b>"
      ]
    },
    {
      "cell_type": "code",
      "metadata": {
        "id": "Cclkr-0Caycr"
      },
      "source": [
        "import pandas as pd\n",
        "import numpy as np\n",
        "import matplotlib.pyplot as plt"
      ],
      "execution_count": 1,
      "outputs": []
    },
    {
      "cell_type": "code",
      "metadata": {
        "colab": {
          "base_uri": "https://localhost:8080/"
        },
        "id": "V_4_JrSxaozV",
        "outputId": "6ab7a652-c175-42b1-8057-a0bb67344ab6"
      },
      "source": [
        "from google.colab import drive\n",
        "drive.mount('/content/drive')"
      ],
      "execution_count": 2,
      "outputs": [
        {
          "output_type": "stream",
          "name": "stdout",
          "text": [
            "Mounted at /content/drive\n"
          ]
        }
      ]
    },
    {
      "cell_type": "code",
      "metadata": {
        "id": "dByMsuzT8Tnw"
      },
      "source": [
        "directory_path = '/content/drive/MyDrive/Alma Better/EDA Projects/Hotel Booking Analysis/'\n",
        "df = pd.read_csv(directory_path + 'Hotel Bookings.csv')"
      ],
      "execution_count": 4,
      "outputs": []
    },
    {
      "cell_type": "code",
      "metadata": {
        "colab": {
          "base_uri": "https://localhost:8080/",
          "height": 307
        },
        "id": "IO_-S9eI1Wng",
        "outputId": "3df6e78e-9c1a-4ac9-c54a-7e1b64b52340"
      },
      "source": [
        "df.head(5)"
      ],
      "execution_count": 5,
      "outputs": [
        {
          "output_type": "execute_result",
          "data": {
            "text/html": [
              "<div>\n",
              "<style scoped>\n",
              "    .dataframe tbody tr th:only-of-type {\n",
              "        vertical-align: middle;\n",
              "    }\n",
              "\n",
              "    .dataframe tbody tr th {\n",
              "        vertical-align: top;\n",
              "    }\n",
              "\n",
              "    .dataframe thead th {\n",
              "        text-align: right;\n",
              "    }\n",
              "</style>\n",
              "<table border=\"1\" class=\"dataframe\">\n",
              "  <thead>\n",
              "    <tr style=\"text-align: right;\">\n",
              "      <th></th>\n",
              "      <th>hotel</th>\n",
              "      <th>is_canceled</th>\n",
              "      <th>lead_time</th>\n",
              "      <th>arrival_date_year</th>\n",
              "      <th>arrival_date_month</th>\n",
              "      <th>arrival_date_week_number</th>\n",
              "      <th>arrival_date_day_of_month</th>\n",
              "      <th>stays_in_weekend_nights</th>\n",
              "      <th>stays_in_week_nights</th>\n",
              "      <th>adults</th>\n",
              "      <th>children</th>\n",
              "      <th>babies</th>\n",
              "      <th>meal</th>\n",
              "      <th>country</th>\n",
              "      <th>market_segment</th>\n",
              "      <th>distribution_channel</th>\n",
              "      <th>is_repeated_guest</th>\n",
              "      <th>previous_cancellations</th>\n",
              "      <th>previous_bookings_not_canceled</th>\n",
              "      <th>reserved_room_type</th>\n",
              "      <th>assigned_room_type</th>\n",
              "      <th>booking_changes</th>\n",
              "      <th>deposit_type</th>\n",
              "      <th>agent</th>\n",
              "      <th>company</th>\n",
              "      <th>days_in_waiting_list</th>\n",
              "      <th>customer_type</th>\n",
              "      <th>adr</th>\n",
              "      <th>required_car_parking_spaces</th>\n",
              "      <th>total_of_special_requests</th>\n",
              "      <th>reservation_status</th>\n",
              "      <th>reservation_status_date</th>\n",
              "    </tr>\n",
              "  </thead>\n",
              "  <tbody>\n",
              "    <tr>\n",
              "      <th>0</th>\n",
              "      <td>Resort Hotel</td>\n",
              "      <td>0</td>\n",
              "      <td>342</td>\n",
              "      <td>2015</td>\n",
              "      <td>July</td>\n",
              "      <td>27</td>\n",
              "      <td>1</td>\n",
              "      <td>0</td>\n",
              "      <td>0</td>\n",
              "      <td>2</td>\n",
              "      <td>0.0</td>\n",
              "      <td>0</td>\n",
              "      <td>BB</td>\n",
              "      <td>PRT</td>\n",
              "      <td>Direct</td>\n",
              "      <td>Direct</td>\n",
              "      <td>0</td>\n",
              "      <td>0</td>\n",
              "      <td>0</td>\n",
              "      <td>C</td>\n",
              "      <td>C</td>\n",
              "      <td>3</td>\n",
              "      <td>No Deposit</td>\n",
              "      <td>NaN</td>\n",
              "      <td>NaN</td>\n",
              "      <td>0</td>\n",
              "      <td>Transient</td>\n",
              "      <td>0.0</td>\n",
              "      <td>0</td>\n",
              "      <td>0</td>\n",
              "      <td>Check-Out</td>\n",
              "      <td>2015-07-01</td>\n",
              "    </tr>\n",
              "    <tr>\n",
              "      <th>1</th>\n",
              "      <td>Resort Hotel</td>\n",
              "      <td>0</td>\n",
              "      <td>737</td>\n",
              "      <td>2015</td>\n",
              "      <td>July</td>\n",
              "      <td>27</td>\n",
              "      <td>1</td>\n",
              "      <td>0</td>\n",
              "      <td>0</td>\n",
              "      <td>2</td>\n",
              "      <td>0.0</td>\n",
              "      <td>0</td>\n",
              "      <td>BB</td>\n",
              "      <td>PRT</td>\n",
              "      <td>Direct</td>\n",
              "      <td>Direct</td>\n",
              "      <td>0</td>\n",
              "      <td>0</td>\n",
              "      <td>0</td>\n",
              "      <td>C</td>\n",
              "      <td>C</td>\n",
              "      <td>4</td>\n",
              "      <td>No Deposit</td>\n",
              "      <td>NaN</td>\n",
              "      <td>NaN</td>\n",
              "      <td>0</td>\n",
              "      <td>Transient</td>\n",
              "      <td>0.0</td>\n",
              "      <td>0</td>\n",
              "      <td>0</td>\n",
              "      <td>Check-Out</td>\n",
              "      <td>2015-07-01</td>\n",
              "    </tr>\n",
              "    <tr>\n",
              "      <th>2</th>\n",
              "      <td>Resort Hotel</td>\n",
              "      <td>0</td>\n",
              "      <td>7</td>\n",
              "      <td>2015</td>\n",
              "      <td>July</td>\n",
              "      <td>27</td>\n",
              "      <td>1</td>\n",
              "      <td>0</td>\n",
              "      <td>1</td>\n",
              "      <td>1</td>\n",
              "      <td>0.0</td>\n",
              "      <td>0</td>\n",
              "      <td>BB</td>\n",
              "      <td>GBR</td>\n",
              "      <td>Direct</td>\n",
              "      <td>Direct</td>\n",
              "      <td>0</td>\n",
              "      <td>0</td>\n",
              "      <td>0</td>\n",
              "      <td>A</td>\n",
              "      <td>C</td>\n",
              "      <td>0</td>\n",
              "      <td>No Deposit</td>\n",
              "      <td>NaN</td>\n",
              "      <td>NaN</td>\n",
              "      <td>0</td>\n",
              "      <td>Transient</td>\n",
              "      <td>75.0</td>\n",
              "      <td>0</td>\n",
              "      <td>0</td>\n",
              "      <td>Check-Out</td>\n",
              "      <td>2015-07-02</td>\n",
              "    </tr>\n",
              "    <tr>\n",
              "      <th>3</th>\n",
              "      <td>Resort Hotel</td>\n",
              "      <td>0</td>\n",
              "      <td>13</td>\n",
              "      <td>2015</td>\n",
              "      <td>July</td>\n",
              "      <td>27</td>\n",
              "      <td>1</td>\n",
              "      <td>0</td>\n",
              "      <td>1</td>\n",
              "      <td>1</td>\n",
              "      <td>0.0</td>\n",
              "      <td>0</td>\n",
              "      <td>BB</td>\n",
              "      <td>GBR</td>\n",
              "      <td>Corporate</td>\n",
              "      <td>Corporate</td>\n",
              "      <td>0</td>\n",
              "      <td>0</td>\n",
              "      <td>0</td>\n",
              "      <td>A</td>\n",
              "      <td>A</td>\n",
              "      <td>0</td>\n",
              "      <td>No Deposit</td>\n",
              "      <td>304.0</td>\n",
              "      <td>NaN</td>\n",
              "      <td>0</td>\n",
              "      <td>Transient</td>\n",
              "      <td>75.0</td>\n",
              "      <td>0</td>\n",
              "      <td>0</td>\n",
              "      <td>Check-Out</td>\n",
              "      <td>2015-07-02</td>\n",
              "    </tr>\n",
              "    <tr>\n",
              "      <th>4</th>\n",
              "      <td>Resort Hotel</td>\n",
              "      <td>0</td>\n",
              "      <td>14</td>\n",
              "      <td>2015</td>\n",
              "      <td>July</td>\n",
              "      <td>27</td>\n",
              "      <td>1</td>\n",
              "      <td>0</td>\n",
              "      <td>2</td>\n",
              "      <td>2</td>\n",
              "      <td>0.0</td>\n",
              "      <td>0</td>\n",
              "      <td>BB</td>\n",
              "      <td>GBR</td>\n",
              "      <td>Online TA</td>\n",
              "      <td>TA/TO</td>\n",
              "      <td>0</td>\n",
              "      <td>0</td>\n",
              "      <td>0</td>\n",
              "      <td>A</td>\n",
              "      <td>A</td>\n",
              "      <td>0</td>\n",
              "      <td>No Deposit</td>\n",
              "      <td>240.0</td>\n",
              "      <td>NaN</td>\n",
              "      <td>0</td>\n",
              "      <td>Transient</td>\n",
              "      <td>98.0</td>\n",
              "      <td>0</td>\n",
              "      <td>1</td>\n",
              "      <td>Check-Out</td>\n",
              "      <td>2015-07-03</td>\n",
              "    </tr>\n",
              "  </tbody>\n",
              "</table>\n",
              "</div>"
            ],
            "text/plain": [
              "          hotel  is_canceled  ...  reservation_status  reservation_status_date\n",
              "0  Resort Hotel            0  ...           Check-Out               2015-07-01\n",
              "1  Resort Hotel            0  ...           Check-Out               2015-07-01\n",
              "2  Resort Hotel            0  ...           Check-Out               2015-07-02\n",
              "3  Resort Hotel            0  ...           Check-Out               2015-07-02\n",
              "4  Resort Hotel            0  ...           Check-Out               2015-07-03\n",
              "\n",
              "[5 rows x 32 columns]"
            ]
          },
          "metadata": {},
          "execution_count": 5
        }
      ]
    },
    {
      "cell_type": "markdown",
      "metadata": {
        "id": "XgUNPODE2y2m"
      },
      "source": [
        "**Looking for missing data and dealing with it**"
      ]
    },
    {
      "cell_type": "code",
      "metadata": {
        "colab": {
          "base_uri": "https://localhost:8080/"
        },
        "id": "acyknO3z2yYu",
        "outputId": "750ddcdf-ca82-4895-93a8-17ae4372408a"
      },
      "source": [
        "df.isna().sum()"
      ],
      "execution_count": 6,
      "outputs": [
        {
          "output_type": "execute_result",
          "data": {
            "text/plain": [
              "hotel                                  0\n",
              "is_canceled                            0\n",
              "lead_time                              0\n",
              "arrival_date_year                      0\n",
              "arrival_date_month                     0\n",
              "arrival_date_week_number               0\n",
              "arrival_date_day_of_month              0\n",
              "stays_in_weekend_nights                0\n",
              "stays_in_week_nights                   0\n",
              "adults                                 0\n",
              "children                               4\n",
              "babies                                 0\n",
              "meal                                   0\n",
              "country                              488\n",
              "market_segment                         0\n",
              "distribution_channel                   0\n",
              "is_repeated_guest                      0\n",
              "previous_cancellations                 0\n",
              "previous_bookings_not_canceled         0\n",
              "reserved_room_type                     0\n",
              "assigned_room_type                     0\n",
              "booking_changes                        0\n",
              "deposit_type                           0\n",
              "agent                              16340\n",
              "company                           112593\n",
              "days_in_waiting_list                   0\n",
              "customer_type                          0\n",
              "adr                                    0\n",
              "required_car_parking_spaces            0\n",
              "total_of_special_requests              0\n",
              "reservation_status                     0\n",
              "reservation_status_date                0\n",
              "dtype: int64"
            ]
          },
          "metadata": {},
          "execution_count": 6
        }
      ]
    },
    {
      "cell_type": "code",
      "metadata": {
        "id": "P9qOjNfl3LRa"
      },
      "source": [
        "# we have four columns with missing data, lets handel all missings value from each column"
      ],
      "execution_count": 7,
      "outputs": []
    },
    {
      "cell_type": "code",
      "metadata": {
        "id": "oGl6SecR9HcR"
      },
      "source": [
        "# filling all na values with 0 in column: children, agent and company\n",
        "df[['children','agent','company']] = df[['children','agent','company']].fillna(0.0)"
      ],
      "execution_count": 8,
      "outputs": []
    },
    {
      "cell_type": "code",
      "metadata": {
        "id": "mL9OH5jC-HA4"
      },
      "source": [
        "# filling all na values from country with mode of non na values from country column\n",
        "df['country'].fillna(df['country'].mode().to_string(), inplace=True)"
      ],
      "execution_count": 9,
      "outputs": []
    },
    {
      "cell_type": "code",
      "metadata": {
        "colab": {
          "base_uri": "https://localhost:8080/"
        },
        "id": "0ezAqQ1mFZUU",
        "outputId": "9543e9f9-b2c3-47a3-a4f2-9434d6416f72"
      },
      "source": [
        "# Check for missing values\n",
        "df.isna().sum()"
      ],
      "execution_count": 10,
      "outputs": [
        {
          "output_type": "execute_result",
          "data": {
            "text/plain": [
              "hotel                             0\n",
              "is_canceled                       0\n",
              "lead_time                         0\n",
              "arrival_date_year                 0\n",
              "arrival_date_month                0\n",
              "arrival_date_week_number          0\n",
              "arrival_date_day_of_month         0\n",
              "stays_in_weekend_nights           0\n",
              "stays_in_week_nights              0\n",
              "adults                            0\n",
              "children                          0\n",
              "babies                            0\n",
              "meal                              0\n",
              "country                           0\n",
              "market_segment                    0\n",
              "distribution_channel              0\n",
              "is_repeated_guest                 0\n",
              "previous_cancellations            0\n",
              "previous_bookings_not_canceled    0\n",
              "reserved_room_type                0\n",
              "assigned_room_type                0\n",
              "booking_changes                   0\n",
              "deposit_type                      0\n",
              "agent                             0\n",
              "company                           0\n",
              "days_in_waiting_list              0\n",
              "customer_type                     0\n",
              "adr                               0\n",
              "required_car_parking_spaces       0\n",
              "total_of_special_requests         0\n",
              "reservation_status                0\n",
              "reservation_status_date           0\n",
              "dtype: int64"
            ]
          },
          "metadata": {},
          "execution_count": 10
        }
      ]
    },
    {
      "cell_type": "markdown",
      "metadata": {
        "id": "TVOTw08x-uRu"
      },
      "source": [
        "Yeah! We are done with handelling missing data."
      ]
    },
    {
      "cell_type": "markdown",
      "metadata": {
        "id": "fWiCOK8z-6l3"
      },
      "source": [
        "**Looking for datatype changes in columns**"
      ]
    },
    {
      "cell_type": "code",
      "metadata": {
        "id": "azZuInw29Vzj"
      },
      "source": [
        "# changing datatype from float to int in column: children, agent and company\n",
        "df[['children','agent','company']] = df[['children','agent','company']].astype(int)"
      ],
      "execution_count": 11,
      "outputs": []
    },
    {
      "cell_type": "code",
      "metadata": {
        "id": "lawvPzGc_C5d"
      },
      "source": [
        "# getting reservation_status_date in proper datetime datatype\n",
        "df['reservation_status_date'] = pd.to_datetime(df['reservation_status_date'])"
      ],
      "execution_count": 12,
      "outputs": []
    },
    {
      "cell_type": "code",
      "metadata": {
        "colab": {
          "base_uri": "https://localhost:8080/"
        },
        "id": "DJTRFupM3dUR",
        "outputId": "fc6f8f42-ae61-4f2a-c4dc-e85150f09909"
      },
      "source": [
        "# Check for datatypes of all column as required\n",
        "df.info()"
      ],
      "execution_count": 13,
      "outputs": [
        {
          "output_type": "stream",
          "name": "stdout",
          "text": [
            "<class 'pandas.core.frame.DataFrame'>\n",
            "RangeIndex: 119390 entries, 0 to 119389\n",
            "Data columns (total 32 columns):\n",
            " #   Column                          Non-Null Count   Dtype         \n",
            "---  ------                          --------------   -----         \n",
            " 0   hotel                           119390 non-null  object        \n",
            " 1   is_canceled                     119390 non-null  int64         \n",
            " 2   lead_time                       119390 non-null  int64         \n",
            " 3   arrival_date_year               119390 non-null  int64         \n",
            " 4   arrival_date_month              119390 non-null  object        \n",
            " 5   arrival_date_week_number        119390 non-null  int64         \n",
            " 6   arrival_date_day_of_month       119390 non-null  int64         \n",
            " 7   stays_in_weekend_nights         119390 non-null  int64         \n",
            " 8   stays_in_week_nights            119390 non-null  int64         \n",
            " 9   adults                          119390 non-null  int64         \n",
            " 10  children                        119390 non-null  int64         \n",
            " 11  babies                          119390 non-null  int64         \n",
            " 12  meal                            119390 non-null  object        \n",
            " 13  country                         119390 non-null  object        \n",
            " 14  market_segment                  119390 non-null  object        \n",
            " 15  distribution_channel            119390 non-null  object        \n",
            " 16  is_repeated_guest               119390 non-null  int64         \n",
            " 17  previous_cancellations          119390 non-null  int64         \n",
            " 18  previous_bookings_not_canceled  119390 non-null  int64         \n",
            " 19  reserved_room_type              119390 non-null  object        \n",
            " 20  assigned_room_type              119390 non-null  object        \n",
            " 21  booking_changes                 119390 non-null  int64         \n",
            " 22  deposit_type                    119390 non-null  object        \n",
            " 23  agent                           119390 non-null  int64         \n",
            " 24  company                         119390 non-null  int64         \n",
            " 25  days_in_waiting_list            119390 non-null  int64         \n",
            " 26  customer_type                   119390 non-null  object        \n",
            " 27  adr                             119390 non-null  float64       \n",
            " 28  required_car_parking_spaces     119390 non-null  int64         \n",
            " 29  total_of_special_requests       119390 non-null  int64         \n",
            " 30  reservation_status              119390 non-null  object        \n",
            " 31  reservation_status_date         119390 non-null  datetime64[ns]\n",
            "dtypes: datetime64[ns](1), float64(1), int64(19), object(11)\n",
            "memory usage: 29.1+ MB\n"
          ]
        }
      ]
    },
    {
      "cell_type": "markdown",
      "metadata": {
        "id": "9Cz7efAx4wP0"
      },
      "source": [
        "**Going through each column and working each categories inside column and finding relation with bookings**"
      ]
    },
    {
      "cell_type": "markdown",
      "metadata": {
        "id": "bajz_v4F0Gwl"
      },
      "source": [
        "**Column:** hotel"
      ]
    },
    {
      "cell_type": "code",
      "metadata": {
        "colab": {
          "base_uri": "https://localhost:8080/"
        },
        "id": "VYt_CD8AU2kB",
        "outputId": "21c8040e-d421-45f5-93c3-5b8dc030939e"
      },
      "source": [
        "categories_in_hotel = df.hotel.unique()\n",
        "print(categories_in_hotel)"
      ],
      "execution_count": 14,
      "outputs": [
        {
          "output_type": "stream",
          "name": "stdout",
          "text": [
            "['Resort Hotel' 'City Hotel']\n"
          ]
        }
      ]
    },
    {
      "cell_type": "code",
      "metadata": {
        "id": "2hFy2tVhWQyZ"
      },
      "source": [
        "df.hotel = df.hotel.str.replace(' ','_')"
      ],
      "execution_count": 15,
      "outputs": []
    },
    {
      "cell_type": "code",
      "metadata": {
        "colab": {
          "base_uri": "https://localhost:8080/",
          "height": 392
        },
        "id": "McQSmMzNA1vf",
        "outputId": "3a8a8ad0-c48f-464a-deba-22856a510d26"
      },
      "source": [
        "df.groupby('hotel').size().plot(kind='pie', labels=[\"City Hotel\", \"Resort Hotel\"], fontsize=15, autopct='%.2f',  figsize=(6, 6))\n",
        "plt.ylabel('% Bookings' , fontsize=16)\n",
        "plt.title('Types of Hotel', fontsize=16)"
      ],
      "execution_count": 16,
      "outputs": [
        {
          "output_type": "execute_result",
          "data": {
            "text/plain": [
              "Text(0.5, 1.0, 'Types of Hotel')"
            ]
          },
          "metadata": {},
          "execution_count": 16
        },
        {
          "output_type": "display_data",
          "data": {
            "image/png": "[encoded data removed]",
            "text/plain": [
              "<Figure size 432x432 with 1 Axes>"
            ]
          },
          "metadata": {}
        }
      ]
    },
    {
      "cell_type": "markdown",
      "metadata": {
        "id": "AeGPYByLbPUz"
      },
      "source": [
        "**Conclusion:** There is almost double bookings in City Hotel as compared to Resort Hotel."
      ]
    },
    {
      "cell_type": "markdown",
      "metadata": {
        "id": "gvyw47gm0TRC"
      },
      "source": [
        "**Column:** is_canceled"
      ]
    },
    {
      "cell_type": "code",
      "metadata": {
        "colab": {
          "base_uri": "https://localhost:8080/"
        },
        "id": "wNCFgfMl091t",
        "outputId": "3fd4e2f4-d43b-45ba-bec5-ff721edb5ce5"
      },
      "source": [
        "categories_in_is_canceled = df.is_canceled.unique()\n",
        "print(categories_in_is_canceled)"
      ],
      "execution_count": 17,
      "outputs": [
        {
          "output_type": "stream",
          "name": "stdout",
          "text": [
            "[0 1]\n"
          ]
        }
      ]
    },
    {
      "cell_type": "markdown",
      "metadata": {
        "id": "KXbUXhaM1Uww"
      },
      "source": [
        "0 for Booking Not Canceled;\n",
        "1 for Booking Canceled OR No Show"
      ]
    },
    {
      "cell_type": "code",
      "metadata": {
        "id": "yVo8l0nkJ7Zv"
      },
      "source": [
        "# replace 0 by Not canceled and 1 by Canceled\n",
        "df.is_canceled = df.is_canceled.replace(0,'Not_Canceled').replace(1, 'Canceled')"
      ],
      "execution_count": 18,
      "outputs": []
    },
    {
      "cell_type": "code",
      "metadata": {
        "colab": {
          "base_uri": "https://localhost:8080/",
          "height": 392
        },
        "id": "QgUZPTvGKhA0",
        "outputId": "f7d082ad-af7c-41e5-d0cb-5169c5ea3cd8"
      },
      "source": [
        "df.groupby('is_canceled').size().plot(kind='pie', labels=[\"Bookings Canceled\", \"Bookings Not Canceled\"], fontsize=15, autopct='%.2f',  figsize=(6, 6))\n",
        "plt.ylabel('Percentage' , fontsize=16)\n",
        "plt.title('Bookings Cancelation Status', fontsize=16)"
      ],
      "execution_count": 19,
      "outputs": [
        {
          "output_type": "execute_result",
          "data": {
            "text/plain": [
              "Text(0.5, 1.0, 'Bookings Cancelation Status')"
            ]
          },
          "metadata": {},
          "execution_count": 19
        },
        {
          "output_type": "display_data",
          "data": {
            "image/png": "[encoded data removed]",
            "text/plain": [
              "<Figure size 432x432 with 1 Axes>"
            ]
          },
          "metadata": {}
        }
      ]
    },
    {
      "cell_type": "markdown",
      "metadata": {
        "id": "LO7lsnrI3PAd"
      },
      "source": [
        "**Conclusion:** 37% of bookings gets canceled."
      ]
    },
    {
      "cell_type": "markdown",
      "metadata": {
        "id": "pd0yqI3n3mDn"
      },
      "source": [
        "**Column:** lead_time"
      ]
    },
    {
      "cell_type": "markdown",
      "metadata": {
        "id": "VXyUgRzR42nw"
      },
      "source": [
        "Booking **Lead Time** is the period of time between when a guest makes a reservation, and the actual check-in date"
      ]
    },
    {
      "cell_type": "markdown",
      "metadata": {
        "id": "qxSXgnly5Iyr"
      },
      "source": [
        "Lead time will be zero for same day booking"
      ]
    },
    {
      "cell_type": "code",
      "metadata": {
        "colab": {
          "base_uri": "https://localhost:8080/"
        },
        "id": "Bu3nq7bJ5pdp",
        "outputId": "2ed850f0-f9d1-4b74-caca-586d3e93f167"
      },
      "source": [
        "same_day_booking= round(df['lead_time'].value_counts(normalize=True) * 100, 2)[0]\n",
        "print(f\"Same day bookings are {same_day_booking}%\")\n",
        "within_week_booking= round((df['lead_time'].value_counts(normalize=True) * 100)[1:8].sum(), 0)\n",
        "print(f\"Within a week bookings are {within_week_booking}%\")\n",
        "within_month_booking= round((df['lead_time'].value_counts(normalize=True) * 100)[0:31].sum(), 0)\n",
        "print(f\"Within a month bookings are {within_month_booking}%\")\n",
        "within_3_months_booking= round((df['lead_time'].value_counts(normalize=True) * 100)[0:91].sum(), 0)\n",
        "print(f\"Within 3 months bookings are {within_3_months_booking}%\")\n",
        "within_6_months_booking= round((df['lead_time'].value_counts(normalize=True) * 100)[0:181].sum(), 0)\n",
        "print(f\"Within 6 months bookings are {within_6_months_booking}%\")\n",
        "within_year_booking= round((df['lead_time'].value_counts(normalize=True) * 100)[0:366].sum(), 0)\n",
        "print(f\"Within a year bookings are {within_year_booking}%\")"
      ],
      "execution_count": 20,
      "outputs": [
        {
          "output_type": "stream",
          "name": "stdout",
          "text": [
            "Same day bookings are 5.31%\n",
            "Within a week bookings are 11.0%\n",
            "Within a month bookings are 33.0%\n",
            "Within 3 months bookings are 58.0%\n",
            "Within 6 months bookings are 80.0%\n",
            "Within a year bookings are 98.0%\n"
          ]
        }
      ]
    },
    {
      "cell_type": "code",
      "metadata": {
        "colab": {
          "base_uri": "https://localhost:8080/"
        },
        "id": "wav54P4K6s7-",
        "outputId": "11d0a5a1-0d63-448b-d1bb-e0dc8aee1dc6"
      },
      "source": [
        "median_lead_time = round(df[df['lead_time'] != 0]['lead_time'].median(), 0)\n",
        "print(f\"Median lead time for bokings {int(median_lead_time)} days\")"
      ],
      "execution_count": 22,
      "outputs": [
        {
          "output_type": "stream",
          "name": "stdout",
          "text": [
            "Median lead time for bokings 76 days\n"
          ]
        }
      ]
    },
    {
      "cell_type": "markdown",
      "metadata": {
        "id": "FdTyS3V6-eXE"
      },
      "source": [
        "**Conlusion:**\n",
        "1. 5.31% bookings are same day booking which means that people prefers to book hotel earlier.\n",
        "\n",
        "2. Almost 60% of bookings are done within 90 days of arrival."
      ]
    },
    {
      "cell_type": "markdown",
      "metadata": {
        "id": "snOvf2z6B7YL"
      },
      "source": [
        "**Column:** arrival_date_year"
      ]
    },
    {
      "cell_type": "code",
      "metadata": {
        "colab": {
          "base_uri": "https://localhost:8080/",
          "height": 392
        },
        "id": "Vlgo0DzRXhkI",
        "outputId": "aeb8419d-df13-4177-ea7d-f0385abeb9c1"
      },
      "source": [
        "df.groupby('arrival_date_year').size().plot(kind='pie', fontsize=15, autopct='%.2f',  figsize=(6, 6))\n",
        "plt.ylabel('Bookings Percentage' , fontsize=16)\n",
        "plt.title('Year WIse Bookings', fontsize=16)"
      ],
      "execution_count": 23,
      "outputs": [
        {
          "output_type": "execute_result",
          "data": {
            "text/plain": [
              "Text(0.5, 1.0, 'Year WIse Bookings')"
            ]
          },
          "metadata": {},
          "execution_count": 23
        },
        {
          "output_type": "display_data",
          "data": {
            "image/png": "[encoded data removed]",
            "text/plain": [
              "<Figure size 432x432 with 1 Axes>"
            ]
          },
          "metadata": {}
        }
      ]
    },
    {
      "cell_type": "markdown",
      "metadata": {
        "id": "dorjIKL8GzGt"
      },
      "source": [
        "**Column:** arrival_date_month"
      ]
    },
    {
      "cell_type": "code",
      "metadata": {
        "colab": {
          "base_uri": "https://localhost:8080/",
          "height": 364
        },
        "id": "TOMFko4_ZWik",
        "outputId": "85e9b5ef-e58f-4425-d63b-9e54104c215f"
      },
      "source": [
        "df['arrival_date_month'].value_counts().plot(kind='bar')\n",
        "plt.xlabel('Months' , fontsize=16)\n",
        "plt.ylabel('No. of Bookings' , fontsize=16)\n",
        "plt.title('Monthly Bookings count', fontsize=16)"
      ],
      "execution_count": 32,
      "outputs": [
        {
          "output_type": "execute_result",
          "data": {
            "text/plain": [
              "Text(0.5, 1.0, 'Monthly Bookings count')"
            ]
          },
          "metadata": {},
          "execution_count": 32
        },
        {
          "output_type": "display_data",
          "data": {
            "image/png": "[encoded data removed]",
            "text/plain": [
              "<Figure size 432x288 with 1 Axes>"
            ]
          },
          "metadata": {
            "needs_background": "light"
          }
        }
      ]
    },
    {
      "cell_type": "markdown",
      "metadata": {
        "id": "kf1Cy9vfIEcK"
      },
      "source": [
        "**Conclusion:**\n",
        "1. Highest hotel bookings are in month August.\n",
        "2. Lowest hotel bookings are in month January."
      ]
    },
    {
      "cell_type": "markdown",
      "metadata": {
        "id": "Zno5JDM9I1za"
      },
      "source": [
        "**Column:** arrival_date_week_number"
      ]
    },
    {
      "cell_type": "code",
      "metadata": {
        "colab": {
          "base_uri": "https://localhost:8080/"
        },
        "id": "YS21fmlprkVE",
        "outputId": "7c124dc1-d1f8-4dc3-b6f6-ca9c1fae682e"
      },
      "source": [
        "round(df['arrival_date_week_number'].value_counts(normalize=True) * 100, 2).sort_index()"
      ],
      "execution_count": 33,
      "outputs": [
        {
          "output_type": "execute_result",
          "data": {
            "text/plain": [
              "1     0.88\n",
              "2     1.02\n",
              "3     1.10\n",
              "4     1.25\n",
              "5     1.16\n",
              "6     1.26\n",
              "7     1.77\n",
              "8     1.86\n",
              "9     1.77\n",
              "10    1.80\n",
              "11    1.73\n",
              "12    1.74\n",
              "13    2.02\n",
              "14    1.90\n",
              "15    2.25\n",
              "16    2.01\n",
              "17    2.35\n",
              "18    2.45\n",
              "19    2.01\n",
              "20    2.33\n",
              "21    2.39\n",
              "22    2.13\n",
              "23    2.20\n",
              "24    2.09\n",
              "25    2.23\n",
              "26    2.00\n",
              "27    2.23\n",
              "28    2.39\n",
              "29    2.31\n",
              "30    2.59\n",
              "31    2.30\n",
              "32    2.55\n",
              "33    3.00\n",
              "34    2.55\n",
              "35    2.17\n",
              "36    1.82\n",
              "37    1.87\n",
              "38    2.23\n",
              "39    2.16\n",
              "40    2.01\n",
              "41    2.26\n",
              "42    2.31\n",
              "43    1.97\n",
              "44    1.90\n",
              "45    1.63\n",
              "46    1.32\n",
              "47    1.41\n",
              "48    1.26\n",
              "49    1.49\n",
              "50    1.26\n",
              "51    0.78\n",
              "52    1.00\n",
              "53    1.52\n",
              "Name: arrival_date_week_number, dtype: float64"
            ]
          },
          "metadata": {},
          "execution_count": 33
        }
      ]
    },
    {
      "cell_type": "code",
      "metadata": {
        "colab": {
          "base_uri": "https://localhost:8080/",
          "height": 296
        },
        "id": "Vwybrs83JJcM",
        "outputId": "c65998d3-f4c3-4ae9-f074-ad64e0a16707"
      },
      "source": [
        "df.arrival_date_week_number.hist();\n",
        "plt.xlabel('Weeks')\n",
        "plt.ylabel('No. of bookings')"
      ],
      "execution_count": 34,
      "outputs": [
        {
          "output_type": "execute_result",
          "data": {
            "text/plain": [
              "Text(0, 0.5, 'No. of bookings')"
            ]
          },
          "metadata": {},
          "execution_count": 34
        },
        {
          "output_type": "display_data",
          "data": {
            "image/png": "[encoded data removed]",
            "text/plain": [
              "<Figure size 432x288 with 1 Axes>"
            ]
          },
          "metadata": {
            "needs_background": "light"
          }
        }
      ]
    },
    {
      "cell_type": "markdown",
      "metadata": {
        "id": "e2ZKq6H5sXtS"
      },
      "source": [
        "**Conclusion:**\n",
        "1. Highest hotel bookings are in week 33.\n",
        "2. Lowest hotel bookings are in week 51."
      ]
    },
    {
      "cell_type": "markdown",
      "metadata": {
        "id": "bwIfNM2Gssnj"
      },
      "source": [
        "**Column:** arrival_date_day_of_month"
      ]
    },
    {
      "cell_type": "code",
      "metadata": {
        "colab": {
          "base_uri": "https://localhost:8080/"
        },
        "id": "5SulKZ0asXXV",
        "outputId": "f5e73be0-65ea-4287-9de2-293a43e322f5"
      },
      "source": [
        "categories_in_arrival_date_day_of_month = df.arrival_date_day_of_month.unique()\n",
        "print(categories_in_arrival_date_day_of_month)"
      ],
      "execution_count": 27,
      "outputs": [
        {
          "output_type": "stream",
          "name": "stdout",
          "text": [
            "[ 1  2  3  4  5  6  7  8  9 10 11 12 13 14 15 16 17 18 19 20 21 22 23 24\n",
            " 25 26 27 28 29 30 31]\n"
          ]
        }
      ]
    },
    {
      "cell_type": "code",
      "metadata": {
        "colab": {
          "base_uri": "https://localhost:8080/"
        },
        "id": "Z980M7O4JJY7",
        "outputId": "eb41ccff-6247-472e-e2ad-fbc461d54eae"
      },
      "source": [
        "round(df['arrival_date_day_of_month'].value_counts(normalize=True) * 100, 2).sort_index()"
      ],
      "execution_count": 30,
      "outputs": [
        {
          "output_type": "execute_result",
          "data": {
            "text/plain": [
              "1     3.04\n",
              "2     3.40\n",
              "3     3.23\n",
              "4     3.15\n",
              "5     3.62\n",
              "6     3.21\n",
              "7     3.07\n",
              "8     3.28\n",
              "9     3.43\n",
              "10    2.99\n",
              "11    3.01\n",
              "12    3.42\n",
              "13    3.14\n",
              "14    3.20\n",
              "15    3.51\n",
              "16    3.42\n",
              "17    3.69\n",
              "18    3.35\n",
              "19    3.39\n",
              "20    3.38\n",
              "21    3.16\n",
              "22    3.01\n",
              "23    3.03\n",
              "24    3.34\n",
              "25    3.48\n",
              "26    3.47\n",
              "27    3.18\n",
              "28    3.31\n",
              "29    3.00\n",
              "30    3.23\n",
              "31    1.85\n",
              "Name: arrival_date_day_of_month, dtype: float64"
            ]
          },
          "metadata": {},
          "execution_count": 30
        }
      ]
    },
    {
      "cell_type": "markdown",
      "metadata": {
        "id": "svKuRkgrtzl2"
      },
      "source": [
        "**Column:** stays_in_weekend_nights"
      ]
    },
    {
      "cell_type": "code",
      "metadata": {
        "colab": {
          "base_uri": "https://localhost:8080/"
        },
        "id": "-GsV2qw0JJQd",
        "outputId": "88361851-0515-41c0-d544-de97c69cc5ef"
      },
      "source": [
        "round(df['stays_in_weekend_nights'].value_counts(normalize=True) * 100, 2)"
      ],
      "execution_count": 29,
      "outputs": [
        {
          "output_type": "execute_result",
          "data": {
            "text/plain": [
              "0     43.55\n",
              "2     27.90\n",
              "1     25.65\n",
              "4      1.55\n",
              "3      1.05\n",
              "6      0.13\n",
              "5      0.07\n",
              "8      0.05\n",
              "7      0.02\n",
              "9      0.01\n",
              "10     0.01\n",
              "12     0.00\n",
              "13     0.00\n",
              "16     0.00\n",
              "14     0.00\n",
              "18     0.00\n",
              "19     0.00\n",
              "Name: stays_in_weekend_nights, dtype: float64"
            ]
          },
          "metadata": {},
          "execution_count": 29
        }
      ]
    },
    {
      "cell_type": "markdown",
      "metadata": {
        "id": "PPDcm5k7zlkC"
      },
      "source": [
        "**Column:**stays_in_week_nights"
      ]
    },
    {
      "cell_type": "code",
      "metadata": {
        "colab": {
          "base_uri": "https://localhost:8080/"
        },
        "id": "_M3PpCdZ1r6q",
        "outputId": "37c914fa-b9a7-4255-9720-f329cd54da3d"
      },
      "source": [
        "round(df['stays_in_week_nights'].value_counts(normalize=True) * 100, 2)"
      ],
      "execution_count": 30,
      "outputs": [
        {
          "output_type": "execute_result",
          "data": {
            "text/plain": [
              "2     28.21\n",
              "1     25.39\n",
              "3     18.64\n",
              "5      9.28\n",
              "4      8.01\n",
              "0      6.40\n",
              "6      1.26\n",
              "10     0.87\n",
              "7      0.86\n",
              "8      0.55\n",
              "9      0.19\n",
              "15     0.07\n",
              "11     0.05\n",
              "19     0.04\n",
              "12     0.04\n",
              "20     0.03\n",
              "14     0.03\n",
              "13     0.02\n",
              "16     0.01\n",
              "21     0.01\n",
              "22     0.01\n",
              "18     0.01\n",
              "25     0.01\n",
              "30     0.00\n",
              "17     0.00\n",
              "24     0.00\n",
              "40     0.00\n",
              "42     0.00\n",
              "26     0.00\n",
              "32     0.00\n",
              "33     0.00\n",
              "34     0.00\n",
              "35     0.00\n",
              "41     0.00\n",
              "50     0.00\n",
              "Name: stays_in_week_nights, dtype: float64"
            ]
          },
          "metadata": {},
          "execution_count": 30
        }
      ]
    },
    {
      "cell_type": "markdown",
      "metadata": {
        "id": "5Giz_cY20nRi"
      },
      "source": [
        "**Column:**adults"
      ]
    },
    {
      "cell_type": "code",
      "metadata": {
        "colab": {
          "base_uri": "https://localhost:8080/"
        },
        "id": "mj5Dx3J8I5nP",
        "outputId": "3f025c5d-0cf2-440e-c4ad-0b5d73020b75"
      },
      "source": [
        "round(df['adults'].value_counts(normalize=True) * 100, 2)"
      ],
      "execution_count": 54,
      "outputs": [
        {
          "output_type": "execute_result",
          "data": {
            "text/plain": [
              "2     75.12\n",
              "1     19.29\n",
              "3      5.19\n",
              "0      0.34\n",
              "4      0.05\n",
              "26     0.00\n",
              "27     0.00\n",
              "20     0.00\n",
              "5      0.00\n",
              "55     0.00\n",
              "50     0.00\n",
              "40     0.00\n",
              "10     0.00\n",
              "6      0.00\n",
              "Name: adults, dtype: float64"
            ]
          },
          "metadata": {},
          "execution_count": 54
        }
      ]
    },
    {
      "cell_type": "markdown",
      "metadata": {
        "id": "xmZGiu-2G2Gd"
      },
      "source": [
        "**Column:**children"
      ]
    },
    {
      "cell_type": "code",
      "metadata": {
        "colab": {
          "base_uri": "https://localhost:8080/"
        },
        "id": "RiV5eTUoIscm",
        "outputId": "c3f4d7f9-68b3-481d-9d96-5e8d51aafa89"
      },
      "source": [
        "round(df['children'].value_counts(normalize=True) * 100, 2)"
      ],
      "execution_count": 55,
      "outputs": [
        {
          "output_type": "execute_result",
          "data": {
            "text/plain": [
              "0     92.81\n",
              "1      4.07\n",
              "2      3.06\n",
              "3      0.06\n",
              "10     0.00\n",
              "Name: children, dtype: float64"
            ]
          },
          "metadata": {},
          "execution_count": 55
        }
      ]
    },
    {
      "cell_type": "markdown",
      "metadata": {
        "id": "qxew5yJuHTMU"
      },
      "source": [
        "**Column:**babies"
      ]
    },
    {
      "cell_type": "code",
      "metadata": {
        "colab": {
          "base_uri": "https://localhost:8080/"
        },
        "id": "qcXdL87_AxkL",
        "outputId": "ee6d5223-ba6c-44e9-e35d-6db5f8416112"
      },
      "source": [
        "round(df['babies'].value_counts(normalize=True) * 100, 2)"
      ],
      "execution_count": 56,
      "outputs": [
        {
          "output_type": "execute_result",
          "data": {
            "text/plain": [
              "0     99.23\n",
              "1      0.75\n",
              "2      0.01\n",
              "10     0.00\n",
              "9      0.00\n",
              "Name: babies, dtype: float64"
            ]
          },
          "metadata": {},
          "execution_count": 56
        }
      ]
    },
    {
      "cell_type": "markdown",
      "metadata": {
        "id": "dxOu2o-bHzwF"
      },
      "source": [
        "**Column:** meal"
      ]
    },
    {
      "cell_type": "code",
      "metadata": {
        "colab": {
          "base_uri": "https://localhost:8080/"
        },
        "id": "vqiROXsPHzBf",
        "outputId": "2fc4ebe8-31b0-4eac-fb2b-f3f42d61c5dd"
      },
      "source": [
        "round(df['meal'].value_counts(normalize=True) * 100, 2)"
      ],
      "execution_count": 57,
      "outputs": [
        {
          "output_type": "execute_result",
          "data": {
            "text/plain": [
              "BB           77.32\n",
              "HB           12.11\n",
              "SC            8.92\n",
              "Undefined     0.98\n",
              "FB            0.67\n",
              "Name: meal, dtype: float64"
            ]
          },
          "metadata": {},
          "execution_count": 57
        }
      ]
    },
    {
      "cell_type": "markdown",
      "metadata": {
        "id": "VA2JLngrISdE"
      },
      "source": [
        "- BB: Bed & Breakfast\n",
        "\n",
        "- HB: Half Board (Breakfast and Dinner normally)\n",
        "\n",
        "- FB: Full Board (Beakfast, Lunch and Dinner)\n",
        "\n",
        "- SC: Self Catering"
      ]
    },
    {
      "cell_type": "markdown",
      "metadata": {
        "id": "2z70KNBTI7JD"
      },
      "source": [
        "**Column:** country"
      ]
    },
    {
      "cell_type": "code",
      "metadata": {
        "id": "G2Qw9ljpAxhi"
      },
      "source": [
        "max_bookings_country = round(df['country'].value_counts(normalize=True) * 100, 2).index[0]"
      ],
      "execution_count": 66,
      "outputs": []
    },
    {
      "cell_type": "code",
      "metadata": {
        "colab": {
          "base_uri": "https://localhost:8080/"
        },
        "id": "WMVeP55wAxfj",
        "outputId": "4a92f470-7235-4266-8ee9-901251619e17"
      },
      "source": [
        "print(f\"Country which has highest number of bookings was {max_bookings_country }\")"
      ],
      "execution_count": 67,
      "outputs": [
        {
          "output_type": "stream",
          "name": "stdout",
          "text": [
            "Country which has highest number of bookings was PRT\n"
          ]
        }
      ]
    },
    {
      "cell_type": "markdown",
      "metadata": {
        "id": "6y1NP3juKEpl"
      },
      "source": [
        "**Column:** market_segment"
      ]
    },
    {
      "cell_type": "code",
      "metadata": {
        "colab": {
          "base_uri": "https://localhost:8080/"
        },
        "id": "Bwa5vKEZAxcA",
        "outputId": "6433e537-40b6-4199-b6ab-59bb2dd898cf"
      },
      "source": [
        "round(df['market_segment'].value_counts(normalize=True) * 100, 2)"
      ],
      "execution_count": 68,
      "outputs": [
        {
          "output_type": "execute_result",
          "data": {
            "text/plain": [
              "Online TA        47.30\n",
              "Offline TA/TO    20.29\n",
              "Groups           16.59\n",
              "Direct           10.56\n",
              "Corporate         4.44\n",
              "Complementary     0.62\n",
              "Aviation          0.20\n",
              "Undefined         0.00\n",
              "Name: market_segment, dtype: float64"
            ]
          },
          "metadata": {},
          "execution_count": 68
        }
      ]
    },
    {
      "cell_type": "markdown",
      "metadata": {
        "id": "bynSnPaLK3rI"
      },
      "source": [
        "**Conclusion:**\n",
        "\n",
        "Maximum bookings are from Online TA (Travel Agent) which 47.30%.\n",
        "\n",
        "Bookings with Online TA and Offline TA/TO is almost 70% that means maximum hotel are booked with agents only.\n",
        "\n",
        "Direct bookings are 10.56% which shows that maximum people do not have tendacy of booking at hotel."
      ]
    },
    {
      "cell_type": "markdown",
      "metadata": {
        "id": "0G4yz3pyMdM4"
      },
      "source": [
        "**Column:** distribution_channel"
      ]
    },
    {
      "cell_type": "code",
      "metadata": {
        "colab": {
          "base_uri": "https://localhost:8080/"
        },
        "id": "RK4geuEaMcgB",
        "outputId": "aaae27d7-dd40-49d4-c588-c52880b1c996"
      },
      "source": [
        "round(df['distribution_channel'].value_counts(normalize=True) * 100, 2)"
      ],
      "execution_count": 69,
      "outputs": [
        {
          "output_type": "execute_result",
          "data": {
            "text/plain": [
              "TA/TO        81.98\n",
              "Direct       12.27\n",
              "Corporate     5.59\n",
              "GDS           0.16\n",
              "Undefined     0.00\n",
              "Name: distribution_channel, dtype: float64"
            ]
          },
          "metadata": {},
          "execution_count": 69
        }
      ]
    },
    {
      "cell_type": "markdown",
      "metadata": {
        "id": "ryMKN8KTNl_7"
      },
      "source": [
        "**Conclusion:**\n",
        "\n",
        "Hotels prefers TA/TO as their Distribution Channel which is maximum with 82%."
      ]
    },
    {
      "cell_type": "markdown",
      "metadata": {
        "id": "ejn1u1PZOG6j"
      },
      "source": [
        "**Column:** is_repeated_guest"
      ]
    },
    {
      "cell_type": "code",
      "metadata": {
        "colab": {
          "base_uri": "https://localhost:8080/"
        },
        "id": "j8_osGOoNlJN",
        "outputId": "bcb75a80-fcda-4ce9-f7e3-ddf4b457960b"
      },
      "source": [
        "round(df['is_repeated_guest'].value_counts(normalize=True) * 100, 2)"
      ],
      "execution_count": 72,
      "outputs": [
        {
          "output_type": "execute_result",
          "data": {
            "text/plain": [
              "0    96.81\n",
              "1     3.19\n",
              "Name: is_repeated_guest, dtype: float64"
            ]
          },
          "metadata": {},
          "execution_count": 72
        }
      ]
    },
    {
      "cell_type": "markdown",
      "metadata": {
        "id": "NKbG2lHmO7AE"
      },
      "source": [
        "0 : guest not repeated\n",
        "\n",
        "1 : guest repeated"
      ]
    },
    {
      "cell_type": "markdown",
      "metadata": {
        "id": "9Ox_T7CjPnNw"
      },
      "source": [
        "**Column:** reserved_room_type"
      ]
    },
    {
      "cell_type": "code",
      "metadata": {
        "colab": {
          "base_uri": "https://localhost:8080/"
        },
        "id": "t8ZM8wltU__t",
        "outputId": "dd5e1577-dbf9-4ff9-f3b9-1fead88259db"
      },
      "source": [
        "round(df['reserved_room_type'].value_counts(normalize=True) * 100, 2)"
      ],
      "execution_count": 75,
      "outputs": [
        {
          "output_type": "execute_result",
          "data": {
            "text/plain": [
              "A    72.03\n",
              "D    16.08\n",
              "E     5.47\n",
              "F     2.43\n",
              "G     1.75\n",
              "B     0.94\n",
              "C     0.78\n",
              "H     0.50\n",
              "P     0.01\n",
              "L     0.01\n",
              "Name: reserved_room_type, dtype: float64"
            ]
          },
          "metadata": {},
          "execution_count": 75
        }
      ]
    },
    {
      "cell_type": "markdown",
      "metadata": {
        "id": "Mu1SJteVW2Fl"
      },
      "source": [
        "**Column:** booking_changes"
      ]
    },
    {
      "cell_type": "code",
      "metadata": {
        "colab": {
          "base_uri": "https://localhost:8080/"
        },
        "id": "uSLK0rkgU_8p",
        "outputId": "3105ff1d-fa06-4819-bd43-05badb64a35d"
      },
      "source": [
        "round(df['booking_changes'].value_counts(normalize=True) * 100, 2)"
      ],
      "execution_count": 77,
      "outputs": [
        {
          "output_type": "execute_result",
          "data": {
            "text/plain": [
              "0     84.86\n",
              "1     10.64\n",
              "2      3.19\n",
              "3      0.78\n",
              "4      0.31\n",
              "5      0.10\n",
              "6      0.05\n",
              "7      0.03\n",
              "8      0.01\n",
              "9      0.01\n",
              "10     0.01\n",
              "13     0.00\n",
              "14     0.00\n",
              "15     0.00\n",
              "11     0.00\n",
              "12     0.00\n",
              "16     0.00\n",
              "17     0.00\n",
              "20     0.00\n",
              "18     0.00\n",
              "21     0.00\n",
              "Name: booking_changes, dtype: float64"
            ]
          },
          "metadata": {},
          "execution_count": 77
        }
      ]
    },
    {
      "cell_type": "markdown",
      "metadata": {
        "id": "BRsc5LxJW6n4"
      },
      "source": [
        "**Conclusion:**\n",
        "\n",
        "About 85% of bookings never changed."
      ]
    },
    {
      "cell_type": "markdown",
      "metadata": {
        "id": "zBIUvJHZXfUO"
      },
      "source": [
        "**Column:** deposit_type"
      ]
    },
    {
      "cell_type": "code",
      "metadata": {
        "colab": {
          "base_uri": "https://localhost:8080/"
        },
        "id": "wHwRlPkYW6Vj",
        "outputId": "3c1e9423-64ad-4528-f79a-ce430069c60c"
      },
      "source": [
        "round(df['deposit_type'].value_counts(normalize=True) * 100, 2)"
      ],
      "execution_count": 78,
      "outputs": [
        {
          "output_type": "execute_result",
          "data": {
            "text/plain": [
              "No Deposit    87.65\n",
              "Non Refund    12.22\n",
              "Refundable     0.14\n",
              "Name: deposit_type, dtype: float64"
            ]
          },
          "metadata": {},
          "execution_count": 78
        }
      ]
    },
    {
      "cell_type": "markdown",
      "metadata": {
        "id": "dPtATB9FX-JT"
      },
      "source": [
        "**Conclusion:**\n",
        "\n",
        "About 88% bookings are without any deposit. (Flexibility to cancel or change bookings without losing any money must be the main reason)\n",
        "\n",
        "About 12.22% bookings are non refundable.(Those bookings might be done because of offer of lower prices than bookings without any deposit)"
      ]
    },
    {
      "cell_type": "markdown",
      "metadata": {
        "id": "jQ5eQVJYZmkh"
      },
      "source": [
        "Column: "
      ]
    },
    {
      "cell_type": "code",
      "metadata": {
        "colab": {
          "base_uri": "https://localhost:8080/"
        },
        "id": "4K3GnK6mU_5w",
        "outputId": "ee06f3d7-eabc-40ad-ae03-fa8b9f80cc8b"
      },
      "source": [
        "round(df['days_in_waiting_list'].value_counts(normalize=True) * 100, 2)"
      ],
      "execution_count": 82,
      "outputs": [
        {
          "output_type": "execute_result",
          "data": {
            "text/plain": [
              "0      96.90\n",
              "39      0.19\n",
              "58      0.14\n",
              "44      0.12\n",
              "31      0.11\n",
              "       ...  \n",
              "175     0.00\n",
              "117     0.00\n",
              "89      0.00\n",
              "92      0.00\n",
              "183     0.00\n",
              "Name: days_in_waiting_list, Length: 128, dtype: float64"
            ]
          },
          "metadata": {},
          "execution_count": 82
        }
      ]
    },
    {
      "cell_type": "markdown",
      "metadata": {
        "id": "5inppRRgcFMY"
      },
      "source": [
        "**Conclusion:**\n",
        "\n",
        "Almost for 97% bookings there is no waiting list.(Which means that confirmed bookings are mostly prefered)"
      ]
    },
    {
      "cell_type": "markdown",
      "metadata": {
        "id": "7SfFjJvio-vc"
      },
      "source": [
        "**Column:** customer_type"
      ]
    },
    {
      "cell_type": "code",
      "metadata": {
        "colab": {
          "base_uri": "https://localhost:8080/"
        },
        "id": "cpfswlq-c3x6",
        "outputId": "265faa95-cdd2-47d1-9fde-ae24dd51cb85"
      },
      "source": [
        "round(df['customer_type'].value_counts(normalize=True) * 100, 2)"
      ],
      "execution_count": 86,
      "outputs": [
        {
          "output_type": "execute_result",
          "data": {
            "text/plain": [
              "Transient          75.06\n",
              "Transient-Party    21.04\n",
              "Contract            3.41\n",
              "Group               0.48\n",
              "Name: customer_type, dtype: float64"
            ]
          },
          "metadata": {},
          "execution_count": 86
        }
      ]
    },
    {
      "cell_type": "markdown",
      "metadata": {
        "id": "gHHThRMXePUP"
      },
      "source": [
        "Transient customer means a customer who is temporarily traveling through other than permanent area."
      ]
    },
    {
      "cell_type": "markdown",
      "metadata": {
        "id": "nOEbtkZdpCyb"
      },
      "source": [
        "**Column**: adr"
      ]
    },
    {
      "cell_type": "code",
      "metadata": {
        "colab": {
          "base_uri": "https://localhost:8080/"
        },
        "id": "NkFjNmKMc3ic",
        "outputId": "ce545ee6-4e3b-4261-cc97-13837017cd4d"
      },
      "source": [
        "df['adr'].describe()"
      ],
      "execution_count": 90,
      "outputs": [
        {
          "output_type": "execute_result",
          "data": {
            "text/plain": [
              "count    119390.000000\n",
              "mean        101.831122\n",
              "std          50.535790\n",
              "min          -6.380000\n",
              "25%          69.290000\n",
              "50%          94.575000\n",
              "75%         126.000000\n",
              "max        5400.000000\n",
              "Name: adr, dtype: float64"
            ]
          },
          "metadata": {},
          "execution_count": 90
        }
      ]
    },
    {
      "cell_type": "markdown",
      "metadata": {
        "id": "y_deVqvlqvbl"
      },
      "source": [
        "adr for some rows zero and even negative also and in some cases it is very low.\n",
        "\n",
        "adr can not be negative or zero.\n"
      ]
    },
    {
      "cell_type": "code",
      "metadata": {
        "id": "GAwvZ8Kescio"
      },
      "source": [
        "# replace all the adr values which are less than 50.0 with 50.0\n",
        "df.loc[df['adr'] < 50.0, 'adr'] = 50.0"
      ],
      "execution_count": 102,
      "outputs": []
    },
    {
      "cell_type": "code",
      "metadata": {
        "colab": {
          "base_uri": "https://localhost:8080/"
        },
        "id": "jSUZVkWytv4k",
        "outputId": "8c1a9fc2-f236-4fb2-bd83-52c23bdb8ceb"
      },
      "source": [
        "df['adr'].describe()"
      ],
      "execution_count": 104,
      "outputs": [
        {
          "output_type": "execute_result",
          "data": {
            "text/plain": [
              "count    119390.000000\n",
              "mean        103.567228\n",
              "std          48.090455\n",
              "min          50.000000\n",
              "25%          69.290000\n",
              "50%          94.575000\n",
              "75%         126.000000\n",
              "max        5400.000000\n",
              "Name: adr, dtype: float64"
            ]
          },
          "metadata": {},
          "execution_count": 104
        }
      ]
    },
    {
      "cell_type": "markdown",
      "metadata": {
        "id": "XohuJX2yv2qW"
      },
      "source": [
        "Max value very much higher than 75% value, need to replace this outlier"
      ]
    },
    {
      "cell_type": "code",
      "metadata": {
        "colab": {
          "base_uri": "https://localhost:8080/"
        },
        "id": "y2-ZFRBSxUPQ",
        "outputId": "73844a4e-81a2-48f7-bc04-1fc2ce13a347"
      },
      "source": [
        "second_max_adr = sorted(df['adr'], reverse=True)[1]\n",
        "print(second_max_adr)"
      ],
      "execution_count": 117,
      "outputs": [
        {
          "output_type": "stream",
          "name": "stdout",
          "text": [
            "510.0\n"
          ]
        }
      ]
    },
    {
      "cell_type": "code",
      "metadata": {
        "id": "181U8_RAv2Gu"
      },
      "source": [
        "# replacing max value by max of remaining rows in that column\n",
        "df.loc[df['adr'] == df['adr'].max(), 'adr'] = second_max_adr"
      ],
      "execution_count": 118,
      "outputs": []
    },
    {
      "cell_type": "code",
      "metadata": {
        "colab": {
          "base_uri": "https://localhost:8080/"
        },
        "id": "17Y1byvwyCOz",
        "outputId": "38da1421-396e-44f3-cee3-2c12d957a1d0"
      },
      "source": [
        "df['adr'].describe()"
      ],
      "execution_count": 119,
      "outputs": [
        {
          "output_type": "execute_result",
          "data": {
            "text/plain": [
              "count    119390.000000\n",
              "mean        103.526270\n",
              "std          45.597248\n",
              "min          50.000000\n",
              "25%          69.290000\n",
              "50%          94.575000\n",
              "75%         126.000000\n",
              "max         510.000000\n",
              "Name: adr, dtype: float64"
            ]
          },
          "metadata": {},
          "execution_count": 119
        }
      ]
    },
    {
      "cell_type": "markdown",
      "metadata": {
        "id": "QxZTnG7f1z1z"
      },
      "source": [
        "**Column:** required_car_parking_spaces"
      ]
    },
    {
      "cell_type": "code",
      "metadata": {
        "colab": {
          "base_uri": "https://localhost:8080/"
        },
        "id": "bXkIp7PruQd4",
        "outputId": "d2bbdb61-90b9-4968-f839-e8abfe39f5e8"
      },
      "source": [
        "round(df['required_car_parking_spaces'].value_counts(normalize=True) * 100, 2)"
      ],
      "execution_count": 106,
      "outputs": [
        {
          "output_type": "execute_result",
          "data": {
            "text/plain": [
              "0    93.79\n",
              "1     6.18\n",
              "2     0.02\n",
              "3     0.00\n",
              "8     0.00\n",
              "Name: required_car_parking_spaces, dtype: float64"
            ]
          },
          "metadata": {},
          "execution_count": 106
        }
      ]
    },
    {
      "cell_type": "markdown",
      "metadata": {
        "id": "QYKxO-GHu4Sg"
      },
      "source": [
        "**Column:** total_of_special_requests"
      ]
    },
    {
      "cell_type": "code",
      "metadata": {
        "colab": {
          "base_uri": "https://localhost:8080/"
        },
        "id": "nrCnm0aduQbS",
        "outputId": "8899e52e-6507-4e30-e442-095197e4cd3d"
      },
      "source": [
        "round(df['total_of_special_requests'].value_counts(normalize=True) * 100, 2)"
      ],
      "execution_count": 107,
      "outputs": [
        {
          "output_type": "execute_result",
          "data": {
            "text/plain": [
              "0    58.90\n",
              "1    27.83\n",
              "2    10.86\n",
              "3     2.09\n",
              "4     0.28\n",
              "5     0.03\n",
              "Name: total_of_special_requests, dtype: float64"
            ]
          },
          "metadata": {},
          "execution_count": 107
        }
      ]
    },
    {
      "cell_type": "markdown",
      "metadata": {
        "id": "cyys5rfAuu7t"
      },
      "source": [
        "**Column:** reservation_status"
      ]
    },
    {
      "cell_type": "code",
      "metadata": {
        "colab": {
          "base_uri": "https://localhost:8080/"
        },
        "id": "fbs_J_GcuQOW",
        "outputId": "23953c29-a2e0-4539-8805-3e2d7aef8b9e"
      },
      "source": [
        "round(df['reservation_status'].value_counts(normalize=True) * 100, 2)"
      ],
      "execution_count": 108,
      "outputs": [
        {
          "output_type": "execute_result",
          "data": {
            "text/plain": [
              "Check-Out    62.96\n",
              "Canceled     36.03\n",
              "No-Show       1.01\n",
              "Name: reservation_status, dtype: float64"
            ]
          },
          "metadata": {},
          "execution_count": 108
        }
      ]
    },
    {
      "cell_type": "code",
      "metadata": {
        "colab": {
          "base_uri": "https://localhost:8080/",
          "height": 307
        },
        "id": "tXuc-ZrEf9Ln",
        "outputId": "99e2415a-4752-46d0-b871-64e5db194bb8"
      },
      "source": [
        "df[df['adults'] > 3].head()"
      ],
      "execution_count": 7,
      "outputs": [
        {
          "output_type": "execute_result",
          "data": {
            "text/html": [
              "<div>\n",
              "<style scoped>\n",
              "    .dataframe tbody tr th:only-of-type {\n",
              "        vertical-align: middle;\n",
              "    }\n",
              "\n",
              "    .dataframe tbody tr th {\n",
              "        vertical-align: top;\n",
              "    }\n",
              "\n",
              "    .dataframe thead th {\n",
              "        text-align: right;\n",
              "    }\n",
              "</style>\n",
              "<table border=\"1\" class=\"dataframe\">\n",
              "  <thead>\n",
              "    <tr style=\"text-align: right;\">\n",
              "      <th></th>\n",
              "      <th>hotel</th>\n",
              "      <th>is_canceled</th>\n",
              "      <th>lead_time</th>\n",
              "      <th>arrival_date_year</th>\n",
              "      <th>arrival_date_month</th>\n",
              "      <th>arrival_date_week_number</th>\n",
              "      <th>arrival_date_day_of_month</th>\n",
              "      <th>stays_in_weekend_nights</th>\n",
              "      <th>stays_in_week_nights</th>\n",
              "      <th>adults</th>\n",
              "      <th>children</th>\n",
              "      <th>babies</th>\n",
              "      <th>meal</th>\n",
              "      <th>country</th>\n",
              "      <th>market_segment</th>\n",
              "      <th>distribution_channel</th>\n",
              "      <th>is_repeated_guest</th>\n",
              "      <th>previous_cancellations</th>\n",
              "      <th>previous_bookings_not_canceled</th>\n",
              "      <th>reserved_room_type</th>\n",
              "      <th>assigned_room_type</th>\n",
              "      <th>booking_changes</th>\n",
              "      <th>deposit_type</th>\n",
              "      <th>agent</th>\n",
              "      <th>company</th>\n",
              "      <th>days_in_waiting_list</th>\n",
              "      <th>customer_type</th>\n",
              "      <th>adr</th>\n",
              "      <th>required_car_parking_spaces</th>\n",
              "      <th>total_of_special_requests</th>\n",
              "      <th>reservation_status</th>\n",
              "      <th>reservation_status_date</th>\n",
              "    </tr>\n",
              "  </thead>\n",
              "  <tbody>\n",
              "    <tr>\n",
              "      <th>125</th>\n",
              "      <td>Resort Hotel</td>\n",
              "      <td>0</td>\n",
              "      <td>32</td>\n",
              "      <td>2015</td>\n",
              "      <td>July</td>\n",
              "      <td>27</td>\n",
              "      <td>4</td>\n",
              "      <td>0</td>\n",
              "      <td>1</td>\n",
              "      <td>4</td>\n",
              "      <td>0.0</td>\n",
              "      <td>0</td>\n",
              "      <td>FB</td>\n",
              "      <td>PRT</td>\n",
              "      <td>Complementary</td>\n",
              "      <td>Direct</td>\n",
              "      <td>0</td>\n",
              "      <td>0</td>\n",
              "      <td>0</td>\n",
              "      <td>H</td>\n",
              "      <td>H</td>\n",
              "      <td>2</td>\n",
              "      <td>No Deposit</td>\n",
              "      <td>NaN</td>\n",
              "      <td>NaN</td>\n",
              "      <td>0</td>\n",
              "      <td>Transient</td>\n",
              "      <td>0.0</td>\n",
              "      <td>0</td>\n",
              "      <td>1</td>\n",
              "      <td>Check-Out</td>\n",
              "      <td>2015-07-05</td>\n",
              "    </tr>\n",
              "    <tr>\n",
              "      <th>354</th>\n",
              "      <td>Resort Hotel</td>\n",
              "      <td>0</td>\n",
              "      <td>0</td>\n",
              "      <td>2015</td>\n",
              "      <td>July</td>\n",
              "      <td>29</td>\n",
              "      <td>13</td>\n",
              "      <td>1</td>\n",
              "      <td>1</td>\n",
              "      <td>4</td>\n",
              "      <td>0.0</td>\n",
              "      <td>0</td>\n",
              "      <td>BB</td>\n",
              "      <td>PRT</td>\n",
              "      <td>Direct</td>\n",
              "      <td>Direct</td>\n",
              "      <td>0</td>\n",
              "      <td>0</td>\n",
              "      <td>0</td>\n",
              "      <td>L</td>\n",
              "      <td>H</td>\n",
              "      <td>0</td>\n",
              "      <td>No Deposit</td>\n",
              "      <td>NaN</td>\n",
              "      <td>NaN</td>\n",
              "      <td>0</td>\n",
              "      <td>Transient</td>\n",
              "      <td>150.0</td>\n",
              "      <td>0</td>\n",
              "      <td>0</td>\n",
              "      <td>Check-Out</td>\n",
              "      <td>2015-07-15</td>\n",
              "    </tr>\n",
              "    <tr>\n",
              "      <th>1023</th>\n",
              "      <td>Resort Hotel</td>\n",
              "      <td>1</td>\n",
              "      <td>95</td>\n",
              "      <td>2015</td>\n",
              "      <td>August</td>\n",
              "      <td>33</td>\n",
              "      <td>10</td>\n",
              "      <td>2</td>\n",
              "      <td>5</td>\n",
              "      <td>4</td>\n",
              "      <td>0.0</td>\n",
              "      <td>0</td>\n",
              "      <td>BB</td>\n",
              "      <td>PRT</td>\n",
              "      <td>Direct</td>\n",
              "      <td>Direct</td>\n",
              "      <td>0</td>\n",
              "      <td>0</td>\n",
              "      <td>0</td>\n",
              "      <td>H</td>\n",
              "      <td>H</td>\n",
              "      <td>0</td>\n",
              "      <td>No Deposit</td>\n",
              "      <td>NaN</td>\n",
              "      <td>NaN</td>\n",
              "      <td>0</td>\n",
              "      <td>Transient</td>\n",
              "      <td>190.0</td>\n",
              "      <td>0</td>\n",
              "      <td>0</td>\n",
              "      <td>Canceled</td>\n",
              "      <td>2015-06-26</td>\n",
              "    </tr>\n",
              "    <tr>\n",
              "      <th>1539</th>\n",
              "      <td>Resort Hotel</td>\n",
              "      <td>1</td>\n",
              "      <td>304</td>\n",
              "      <td>2015</td>\n",
              "      <td>September</td>\n",
              "      <td>36</td>\n",
              "      <td>3</td>\n",
              "      <td>0</td>\n",
              "      <td>3</td>\n",
              "      <td>40</td>\n",
              "      <td>0.0</td>\n",
              "      <td>0</td>\n",
              "      <td>BB</td>\n",
              "      <td>PRT</td>\n",
              "      <td>Direct</td>\n",
              "      <td>Direct</td>\n",
              "      <td>0</td>\n",
              "      <td>0</td>\n",
              "      <td>0</td>\n",
              "      <td>A</td>\n",
              "      <td>A</td>\n",
              "      <td>0</td>\n",
              "      <td>No Deposit</td>\n",
              "      <td>NaN</td>\n",
              "      <td>NaN</td>\n",
              "      <td>0</td>\n",
              "      <td>Group</td>\n",
              "      <td>0.0</td>\n",
              "      <td>0</td>\n",
              "      <td>0</td>\n",
              "      <td>Canceled</td>\n",
              "      <td>2015-01-02</td>\n",
              "    </tr>\n",
              "    <tr>\n",
              "      <th>1587</th>\n",
              "      <td>Resort Hotel</td>\n",
              "      <td>1</td>\n",
              "      <td>333</td>\n",
              "      <td>2015</td>\n",
              "      <td>September</td>\n",
              "      <td>36</td>\n",
              "      <td>5</td>\n",
              "      <td>2</td>\n",
              "      <td>5</td>\n",
              "      <td>26</td>\n",
              "      <td>0.0</td>\n",
              "      <td>0</td>\n",
              "      <td>BB</td>\n",
              "      <td>PRT</td>\n",
              "      <td>Offline TA/TO</td>\n",
              "      <td>TA/TO</td>\n",
              "      <td>0</td>\n",
              "      <td>0</td>\n",
              "      <td>0</td>\n",
              "      <td>A</td>\n",
              "      <td>A</td>\n",
              "      <td>0</td>\n",
              "      <td>No Deposit</td>\n",
              "      <td>96.0</td>\n",
              "      <td>NaN</td>\n",
              "      <td>0</td>\n",
              "      <td>Group</td>\n",
              "      <td>0.0</td>\n",
              "      <td>0</td>\n",
              "      <td>0</td>\n",
              "      <td>Canceled</td>\n",
              "      <td>2015-01-02</td>\n",
              "    </tr>\n",
              "  </tbody>\n",
              "</table>\n",
              "</div>"
            ],
            "text/plain": [
              "             hotel  is_canceled  ...  reservation_status  reservation_status_date\n",
              "125   Resort Hotel            0  ...           Check-Out               2015-07-05\n",
              "354   Resort Hotel            0  ...           Check-Out               2015-07-15\n",
              "1023  Resort Hotel            1  ...            Canceled               2015-06-26\n",
              "1539  Resort Hotel            1  ...            Canceled               2015-01-02\n",
              "1587  Resort Hotel            1  ...            Canceled               2015-01-02\n",
              "\n",
              "[5 rows x 32 columns]"
            ]
          },
          "metadata": {},
          "execution_count": 7
        }
      ]
    },
    {
      "cell_type": "code",
      "metadata": {
        "colab": {
          "base_uri": "https://localhost:8080/",
          "height": 307
        },
        "id": "sQH1DVZbccJP",
        "outputId": "cd858efb-6448-4bed-852a-1700dd8506ad"
      },
      "source": [
        "df.head()"
      ],
      "execution_count": 105,
      "outputs": [
        {
          "output_type": "execute_result",
          "data": {
            "text/html": [
              "<div>\n",
              "<style scoped>\n",
              "    .dataframe tbody tr th:only-of-type {\n",
              "        vertical-align: middle;\n",
              "    }\n",
              "\n",
              "    .dataframe tbody tr th {\n",
              "        vertical-align: top;\n",
              "    }\n",
              "\n",
              "    .dataframe thead th {\n",
              "        text-align: right;\n",
              "    }\n",
              "</style>\n",
              "<table border=\"1\" class=\"dataframe\">\n",
              "  <thead>\n",
              "    <tr style=\"text-align: right;\">\n",
              "      <th></th>\n",
              "      <th>hotel</th>\n",
              "      <th>is_canceled</th>\n",
              "      <th>lead_time</th>\n",
              "      <th>arrival_date_year</th>\n",
              "      <th>arrival_date_month</th>\n",
              "      <th>arrival_date_week_number</th>\n",
              "      <th>arrival_date_day_of_month</th>\n",
              "      <th>stays_in_weekend_nights</th>\n",
              "      <th>stays_in_week_nights</th>\n",
              "      <th>adults</th>\n",
              "      <th>children</th>\n",
              "      <th>babies</th>\n",
              "      <th>meal</th>\n",
              "      <th>country</th>\n",
              "      <th>market_segment</th>\n",
              "      <th>distribution_channel</th>\n",
              "      <th>is_repeated_guest</th>\n",
              "      <th>previous_cancellations</th>\n",
              "      <th>previous_bookings_not_canceled</th>\n",
              "      <th>reserved_room_type</th>\n",
              "      <th>assigned_room_type</th>\n",
              "      <th>booking_changes</th>\n",
              "      <th>deposit_type</th>\n",
              "      <th>agent</th>\n",
              "      <th>company</th>\n",
              "      <th>days_in_waiting_list</th>\n",
              "      <th>customer_type</th>\n",
              "      <th>adr</th>\n",
              "      <th>required_car_parking_spaces</th>\n",
              "      <th>total_of_special_requests</th>\n",
              "      <th>reservation_status</th>\n",
              "      <th>reservation_status_date</th>\n",
              "    </tr>\n",
              "  </thead>\n",
              "  <tbody>\n",
              "    <tr>\n",
              "      <th>0</th>\n",
              "      <td>Resort Hotel</td>\n",
              "      <td>0</td>\n",
              "      <td>342</td>\n",
              "      <td>2015</td>\n",
              "      <td>July</td>\n",
              "      <td>27</td>\n",
              "      <td>1</td>\n",
              "      <td>0</td>\n",
              "      <td>0</td>\n",
              "      <td>2</td>\n",
              "      <td>0</td>\n",
              "      <td>0</td>\n",
              "      <td>BB</td>\n",
              "      <td>PRT</td>\n",
              "      <td>Direct</td>\n",
              "      <td>Direct</td>\n",
              "      <td>0</td>\n",
              "      <td>0</td>\n",
              "      <td>0</td>\n",
              "      <td>C</td>\n",
              "      <td>C</td>\n",
              "      <td>3</td>\n",
              "      <td>No Deposit</td>\n",
              "      <td>0</td>\n",
              "      <td>0</td>\n",
              "      <td>0</td>\n",
              "      <td>Transient</td>\n",
              "      <td>50.0</td>\n",
              "      <td>0</td>\n",
              "      <td>0</td>\n",
              "      <td>Check-Out</td>\n",
              "      <td>2015-07-01</td>\n",
              "    </tr>\n",
              "    <tr>\n",
              "      <th>1</th>\n",
              "      <td>Resort Hotel</td>\n",
              "      <td>0</td>\n",
              "      <td>737</td>\n",
              "      <td>2015</td>\n",
              "      <td>July</td>\n",
              "      <td>27</td>\n",
              "      <td>1</td>\n",
              "      <td>0</td>\n",
              "      <td>0</td>\n",
              "      <td>2</td>\n",
              "      <td>0</td>\n",
              "      <td>0</td>\n",
              "      <td>BB</td>\n",
              "      <td>PRT</td>\n",
              "      <td>Direct</td>\n",
              "      <td>Direct</td>\n",
              "      <td>0</td>\n",
              "      <td>0</td>\n",
              "      <td>0</td>\n",
              "      <td>C</td>\n",
              "      <td>C</td>\n",
              "      <td>4</td>\n",
              "      <td>No Deposit</td>\n",
              "      <td>0</td>\n",
              "      <td>0</td>\n",
              "      <td>0</td>\n",
              "      <td>Transient</td>\n",
              "      <td>50.0</td>\n",
              "      <td>0</td>\n",
              "      <td>0</td>\n",
              "      <td>Check-Out</td>\n",
              "      <td>2015-07-01</td>\n",
              "    </tr>\n",
              "    <tr>\n",
              "      <th>2</th>\n",
              "      <td>Resort Hotel</td>\n",
              "      <td>0</td>\n",
              "      <td>7</td>\n",
              "      <td>2015</td>\n",
              "      <td>July</td>\n",
              "      <td>27</td>\n",
              "      <td>1</td>\n",
              "      <td>0</td>\n",
              "      <td>1</td>\n",
              "      <td>1</td>\n",
              "      <td>0</td>\n",
              "      <td>0</td>\n",
              "      <td>BB</td>\n",
              "      <td>GBR</td>\n",
              "      <td>Direct</td>\n",
              "      <td>Direct</td>\n",
              "      <td>0</td>\n",
              "      <td>0</td>\n",
              "      <td>0</td>\n",
              "      <td>A</td>\n",
              "      <td>C</td>\n",
              "      <td>0</td>\n",
              "      <td>No Deposit</td>\n",
              "      <td>0</td>\n",
              "      <td>0</td>\n",
              "      <td>0</td>\n",
              "      <td>Transient</td>\n",
              "      <td>75.0</td>\n",
              "      <td>0</td>\n",
              "      <td>0</td>\n",
              "      <td>Check-Out</td>\n",
              "      <td>2015-07-02</td>\n",
              "    </tr>\n",
              "    <tr>\n",
              "      <th>3</th>\n",
              "      <td>Resort Hotel</td>\n",
              "      <td>0</td>\n",
              "      <td>13</td>\n",
              "      <td>2015</td>\n",
              "      <td>July</td>\n",
              "      <td>27</td>\n",
              "      <td>1</td>\n",
              "      <td>0</td>\n",
              "      <td>1</td>\n",
              "      <td>1</td>\n",
              "      <td>0</td>\n",
              "      <td>0</td>\n",
              "      <td>BB</td>\n",
              "      <td>GBR</td>\n",
              "      <td>Corporate</td>\n",
              "      <td>Corporate</td>\n",
              "      <td>0</td>\n",
              "      <td>0</td>\n",
              "      <td>0</td>\n",
              "      <td>A</td>\n",
              "      <td>A</td>\n",
              "      <td>0</td>\n",
              "      <td>No Deposit</td>\n",
              "      <td>304</td>\n",
              "      <td>0</td>\n",
              "      <td>0</td>\n",
              "      <td>Transient</td>\n",
              "      <td>75.0</td>\n",
              "      <td>0</td>\n",
              "      <td>0</td>\n",
              "      <td>Check-Out</td>\n",
              "      <td>2015-07-02</td>\n",
              "    </tr>\n",
              "    <tr>\n",
              "      <th>4</th>\n",
              "      <td>Resort Hotel</td>\n",
              "      <td>0</td>\n",
              "      <td>14</td>\n",
              "      <td>2015</td>\n",
              "      <td>July</td>\n",
              "      <td>27</td>\n",
              "      <td>1</td>\n",
              "      <td>0</td>\n",
              "      <td>2</td>\n",
              "      <td>2</td>\n",
              "      <td>0</td>\n",
              "      <td>0</td>\n",
              "      <td>BB</td>\n",
              "      <td>GBR</td>\n",
              "      <td>Online TA</td>\n",
              "      <td>TA/TO</td>\n",
              "      <td>0</td>\n",
              "      <td>0</td>\n",
              "      <td>0</td>\n",
              "      <td>A</td>\n",
              "      <td>A</td>\n",
              "      <td>0</td>\n",
              "      <td>No Deposit</td>\n",
              "      <td>240</td>\n",
              "      <td>0</td>\n",
              "      <td>0</td>\n",
              "      <td>Transient</td>\n",
              "      <td>98.0</td>\n",
              "      <td>0</td>\n",
              "      <td>1</td>\n",
              "      <td>Check-Out</td>\n",
              "      <td>2015-07-03</td>\n",
              "    </tr>\n",
              "  </tbody>\n",
              "</table>\n",
              "</div>"
            ],
            "text/plain": [
              "          hotel  is_canceled  ...  reservation_status  reservation_status_date\n",
              "0  Resort Hotel            0  ...           Check-Out               2015-07-01\n",
              "1  Resort Hotel            0  ...           Check-Out               2015-07-01\n",
              "2  Resort Hotel            0  ...           Check-Out               2015-07-02\n",
              "3  Resort Hotel            0  ...           Check-Out               2015-07-02\n",
              "4  Resort Hotel            0  ...           Check-Out               2015-07-03\n",
              "\n",
              "[5 rows x 32 columns]"
            ]
          },
          "metadata": {},
          "execution_count": 105
        }
      ]
    },
    {
      "cell_type": "code",
      "metadata": {
        "id": "Z7qMi_apuL73"
      },
      "source": [
        ""
      ],
      "execution_count": null,
      "outputs": []
    }
  ]
}